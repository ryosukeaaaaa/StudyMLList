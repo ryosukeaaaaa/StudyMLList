{
 "cells": [
  {
   "cell_type": "markdown",
   "id": "c8659424",
   "metadata": {},
   "source": [
    "# 畳み込みニューラルネットワーク(Convolutional Neural Network:CNN)"
   ]
  },
  {
   "cell_type": "markdown",
   "id": "07559a3e",
   "metadata": {},
   "source": [
    "## 解説"
   ]
  },
  {
   "cell_type": "markdown",
   "id": "e6d3beee",
   "metadata": {},
   "source": [
    "例えば、画像を扱っている場合は、エッジやブロブといった低レベルの特徴量を最初の方の層から抽出する。そしてそれらの特徴量を組み合わせることで、高レベルの特徴量を形成する。    \n",
    "一般に、CNNは複数の**畳み込み層**と**サブサンプリング層**（例：プーリング層：学習可能なパラメータは存在しない）で構成され、それに続いて最後に全結合層が1つ以上存在する。\n",
    "### 局所受容野\n",
    "* 疎結合\n",
    "* パラメータの共有"
   ]
  },
  {
   "cell_type": "markdown",
   "id": "f2c482e0",
   "metadata": {},
   "source": [
    "### 出力マップのサイズを制御するための入力のパディング\n",
    "- fullモード  \n",
    "$p=m-1$で設定される。出力の次元が増えるため、CNNのアーキテクチャでは滅多に使われない。\n",
    "- sameモード  \n",
    "入力と出力のサイズが同じ、$p$はフィルタのサイズに基づいて計算される。CNNで最もよく使われる。\n",
    "- validモード  \n",
    "$p=0$（パディングなし）で実行されることを意味する。\n",
    "#### 出力のサイズ\n",
    "\n",
    "$$\n",
    "o = \\lfloor \\frac{n+2p-m}{s} \\rfloor+1\n",
    "\n",
    "$$\n",
    "$n:入力サイズ, m:フィルタサイズ, p:パディングサイズ, s:ストライド$"
   ]
  },
  {
   "cell_type": "code",
   "execution_count": 1,
   "id": "537c2b02",
   "metadata": {},
   "outputs": [
    {
     "name": "stdout",
     "output_type": "stream",
     "text": [
      "Conv1d Implementation: [ 5. 14. 16. 26. 24. 34. 19. 22.]\n",
      "Numpy Results: [ 5 14 16 26 24 34 19 22]\n"
     ]
    }
   ],
   "source": [
    "import numpy as np\n",
    "def conv1d(x, w, p=0, s=1):\n",
    "    w_rot = np.array(w[::-1])\n",
    "    x_padded = np.array(x)\n",
    "    if p > 0:\n",
    "        zero_pad = np.zeros(shape=p)\n",
    "        x_padded = np.concatenate(\n",
    "            [zero_pad, x_padded, zero_pad])\n",
    "    res = []\n",
    "    for i in range(0, int((len(x_padded) - len(w_rot)) / s) + 1, s):\n",
    "        res.append(np.sum(\n",
    "            x_padded[i:i+w_rot.shape[0]] * w_rot))\n",
    "    return np.array(res)\n",
    "\n",
    "\n",
    "## Testing:\n",
    "x = [1, 3, 2, 4, 5, 6, 1, 3]\n",
    "w = [1, 0, 3, 1, 2]\n",
    "\n",
    "print('Conv1d Implementation:',\n",
    "      conv1d(x, w, p=2, s=1))\n",
    "\n",
    "print('Numpy Results:',\n",
    "      np.convolve(x, w, mode='same')) "
   ]
  },
  {
   "cell_type": "markdown",
   "id": "1c9106e8",
   "metadata": {},
   "source": [
    "### ２次元の離散畳み込み\n",
    "$$\n",
    "Y = X * W \\rightarrow Y[i, j] = \\sum_{k_1 = -\\infty}^{+\\infty} \\sum_{k_2 = -\\infty}^{+\\infty} X[i - k_1, j - k_2] W[k_1, k_2] \n",
    "$$\n",
    "\n",
    "ここで：\n",
    "- $ X[i - k_1, j - k_2] $：入力画像の画素値\n",
    "- $ W[k_1, k_2] $：カーネル（フィルタ）の値\n",
    "- $ Y[i, j] $：出力特徴マップの画素値\n",
    "\n",
    "### なぜ畳み込みの形状なのか？\n",
    "実際は「畳み込み」ではなく、普通に「相関」を使って形状検出をしている。NNにおいては、どちらでも同じ働きをする、  \n",
    "畳み込みで説明される理由は、歴史的な経緯や信号処理からの影響が強いらしい。システムの応答（出力）を入力とたたみ込むことで求めるという考えに由来する（フーリエ変換）。"
   ]
  },
  {
   "cell_type": "code",
   "execution_count": 2,
   "id": "31b1e38a",
   "metadata": {},
   "outputs": [
    {
     "name": "stdout",
     "output_type": "stream",
     "text": [
      "Conv2d Implementation:\n",
      " [[11. 25. 32. 13.]\n",
      " [19. 25. 24. 13.]\n",
      " [13. 28. 25. 17.]\n",
      " [11. 17. 14.  9.]]\n",
      "SciPy Results:\n",
      " [[11 25 32 13]\n",
      " [19 25 24 13]\n",
      " [13 28 25 17]\n",
      " [11 17 14  9]]\n"
     ]
    }
   ],
   "source": [
    "import scipy.signal\n",
    "\n",
    "\n",
    "def conv2d(X, W, p=(0, 0), s=(1, 1)):\n",
    "    W_rot = np.array(W)[::-1,::-1]\n",
    "    X_orig = np.array(X)\n",
    "    n1 = X_orig.shape[0] + 2*p[0]\n",
    "    n2 = X_orig.shape[1] + 2*p[1]\n",
    "    X_padded = np.zeros(shape=(n1, n2))\n",
    "    X_padded[p[0]:p[0]+X_orig.shape[0],\n",
    "    p[1]:p[1]+X_orig.shape[1]] = X_orig\n",
    "\n",
    "    res = []\n",
    "    for i in range(0, int((X_padded.shape[0] - \n",
    "                           W_rot.shape[0])/s[0])+1, s[0]):\n",
    "        res.append([])\n",
    "        for j in range(0, int((X_padded.shape[1] - \n",
    "                               W_rot.shape[1])/s[1])+1, s[1]):\n",
    "            X_sub = X_padded[i:i+W_rot.shape[0],\n",
    "                             j:j+W_rot.shape[1]]\n",
    "            res[-1].append(np.sum(X_sub * W_rot))\n",
    "    return(np.array(res))\n",
    "\n",
    "X = [[1, 3, 2, 4], [5, 6, 1, 3], [1, 2, 0, 2], [3, 4, 3, 2]]\n",
    "W = [[1, 0, 3], [1, 2, 1], [0, 1, 1]]\n",
    "\n",
    "print('Conv2d Implementation:\\n',\n",
    "    conv2d(X, W, p=(1, 1), s=(1, 1)))\n",
    "\n",
    "\n",
    "print('SciPy Results:\\n',\n",
    "    scipy.signal.convolve2d(X, W, mode='same'))"
   ]
  },
  {
   "cell_type": "markdown",
   "id": "af7f9222",
   "metadata": {},
   "source": [
    "最近では、畳み込みの計算にフーリエ変換を利用する、はるかに効率のよいアルゴリズムが開発されている。"
   ]
  },
  {
   "cell_type": "markdown",
   "id": "64a78871",
   "metadata": {},
   "source": [
    "### サブサンプリング層"
   ]
  },
  {
   "cell_type": "markdown",
   "id": "dad35349",
   "metadata": {},
   "source": [
    "一般に、CNNの２種類のプーリング演算という形で適用される。これらのプーリング演算は、**最大値プーリング**と**平均値プーリング**である。  \n",
    "プーリング（最大値プーリング）は、一種の局所不変性をもたらす。近傍が局所的に少し変化したとしても、最大値プーリングの結果は変化しない。よってより頑健な特徴量を生成するのに役立つ。通常、オーバーラップしていない近傍で実行されるがオーバーラップありのものも提案されている。"
   ]
  },
  {
   "cell_type": "markdown",
   "id": "460871cd",
   "metadata": {},
   "source": [
    "プーリング層あり、なし比較論文：  \n",
    "Striving for Simplicity: The All Convolutional Net"
   ]
  },
  {
   "cell_type": "markdown",
   "id": "cac5c766",
   "metadata": {},
   "source": [
    "## 実装"
   ]
  },
  {
   "cell_type": "markdown",
   "id": "338a230f",
   "metadata": {},
   "source": [
    "画像ファイルを操作するときは、'uint8'型（符号なし８ビット整数）のNumpy配列に画像を読み込むことで、メモリ消費を減らすことができる。"
   ]
  },
  {
   "cell_type": "markdown",
   "id": "0af3bb55",
   "metadata": {},
   "source": [
    "サンプル　　　：　$\\mathbf{X}_{n_1 \\times n_2 \\times C_{\\text{in}}}$  \n",
    "カーネル行列　：　$\\mathbf{W}_{m_1 \\times m_2 \\times C_{\\text{in}}}$  \n",
    "バイアス値　　：　$b$  \n",
    "\n",
    "$$\n",
    "Z_{\\text{Conv}} = \\sum_{c=1}^{C_{\\text{in}}} \\mathbf{W}[:, :, c] * \\mathbf{X}[:, :, c]\n",
    "$$\n",
    "\n",
    "$$\n",
    "Z = Z_{\\text{Conv}} + b\n",
    "$$\n",
    "\n",
    "$$\n",
    "\\text{特徴マップ：} \\quad \\mathbf{A} = \\sigma(Z)\n",
    "$$\n"
   ]
  },
  {
   "cell_type": "markdown",
   "id": "6e8f65cc",
   "metadata": {},
   "source": [
    "### 正則化とドロップアウト\n",
    "#### ドロップアウト\n",
    "訓練段階と予測段階とで全体的な活性化の尺度を揃えるには、有効なニューロンの活性化を適切な尺度にする必要がある。例えば、ドロップアウト確率がp=0.5に設定されている場合、活性化を半分にすることが考えられる。PyTorchなどのツールは訓練時に活性化の尺度を調整するようになっている。このアプローチは逆ドロップアウトと呼ばれる。  \n",
    "アンサンブル的な効果？"
   ]
  },
  {
   "cell_type": "markdown",
   "id": "030aa57f",
   "metadata": {},
   "source": [
    "### 損失関数\n",
    "| 損失関数                          | 用途       | 例：確率を使用                           | 例：ロジットを使用                         |\n",
    "|----------------------------------|------------|------------------------------------------|--------------------------------------------|\n",
    "| NLLLoss または CrossEntropyLoss | 多クラス分類 | **NLLLoss**<br>Y_true: 2<br>Y_pred: [0.30, 0.15, 0.55] | **CrossEntropyLoss**<br>Y_true: 2<br>Y_pred: [1.5, 0.8, 2.1] |\n",
    "| BCEWithLogitsLoss または BCELoss| 二値分類    | **BCELoss**<br>Y_true: 1<br>Y_pred: 0.69 | **BCEWithLogitsLoss**<br>Y_true: 1<br>Y_pred: 1.08 |\n"
   ]
  },
  {
   "cell_type": "markdown",
   "id": "b1a46a86",
   "metadata": {},
   "source": [
    "### ディープ畳み込みニューラルネットワーク(DNN)\n",
    "1. 畳み込み層（Convolutional Layer）\n",
    "2. プーリング層（Pooling Layer）\n",
    "3. 平坦化（Flatten）\n",
    "4. 全結合層（Fully Connected Layer / Dense Layer）\n",
    "5. 出力層（Softmaxなど）\n",
    "\n",
    "平坦化(flatten)：多次元の特徴マップを１次元のベクトルに変換する。"
   ]
  },
  {
   "cell_type": "code",
   "execution_count": 3,
   "id": "62316876",
   "metadata": {},
   "outputs": [],
   "source": [
    "import torchvision\n",
    "from torchvision import transforms\n",
    "image_path = './'\n",
    "transform = transforms.Compose([transforms.ToTensor()]) # [0, 255] -> [0.0, 1.0] に変換\n",
    "mnist_dataset = torchvision.datasets.MNIST(image_path, train=True, download=True, transform=transform)\n",
    "\n",
    "import torch\n",
    "from torch.utils.data import Subset\n",
    "mnist_valid_dataset = Subset(mnist_dataset, torch.arange(10000))\n",
    "mnist_train_dataset = Subset(mnist_dataset, torch.arange(10000, len(mnist_dataset)))\n",
    "mnist_test_dataset = torchvision.datasets.MNIST(image_path, train=False, download=False, transform=transform)"
   ]
  },
  {
   "cell_type": "code",
   "execution_count": 4,
   "id": "ede1d52d",
   "metadata": {},
   "outputs": [],
   "source": [
    "from torch.utils.data import DataLoader\n",
    "batch_size = 64\n",
    "torch.manual_seed(1)\n",
    "train_dl = DataLoader(mnist_train_dataset, batch_size=batch_size, shuffle=True)\n",
    "valid_dl = DataLoader(mnist_valid_dataset, batch_size=batch_size, shuffle=False)"
   ]
  },
  {
   "cell_type": "code",
   "execution_count": 5,
   "id": "9ec65d85",
   "metadata": {},
   "outputs": [],
   "source": [
    "import torch.nn as nn\n",
    "model = nn.Sequential()\n",
    "model.add_module('conv1', nn.Conv2d(in_channels=1, out_channels=32, kernel_size=5, padding=2))\n",
    "model.add_module('relu1', nn.ReLU())\n",
    "model.add_module('pool1', nn.MaxPool2d(kernel_size=2))\n",
    "model.add_module('conv2', nn.Conv2d(in_channels=32, out_channels=64, kernel_size=5, padding=2))\n",
    "model.add_module('relu2', nn.ReLU())\n",
    "model.add_module('pool2', nn.MaxPool2d(kernel_size=2))"
   ]
  },
  {
   "cell_type": "code",
   "execution_count": 6,
   "id": "d598031a",
   "metadata": {},
   "outputs": [
    {
     "data": {
      "text/plain": [
       "torch.Size([4, 64, 7, 7])"
      ]
     },
     "execution_count": 6,
     "metadata": {},
     "output_type": "execute_result"
    }
   ],
   "source": [
    "# Conv2Dクラスでは、入力がデフォルトでNCHW形式であることを想定している。\n",
    "x = torch.ones((4, 1, 28, 28))\n",
    "model(x).shape"
   ]
  },
  {
   "cell_type": "code",
   "execution_count": 7,
   "id": "7409d2b6",
   "metadata": {},
   "outputs": [
    {
     "data": {
      "text/plain": [
       "torch.Size([4, 3136])"
      ]
     },
     "execution_count": 7,
     "metadata": {},
     "output_type": "execute_result"
    }
   ],
   "source": [
    "model.add_module('flatten', nn.Flatten())\n",
    "x = torch.ones((4, 1, 28, 28))\n",
    "model(x).shape"
   ]
  },
  {
   "cell_type": "code",
   "execution_count": 8,
   "id": "90f00f34",
   "metadata": {},
   "outputs": [],
   "source": [
    "model.add_module('fc1', nn.Linear(64*7*7, 1024))\n",
    "model.add_module('relu3', nn.ReLU())\n",
    "model.add_module('dropout', nn.Dropout(p=0.5))\n",
    "model.add_module('fc2', nn.Linear(1024, 10))\n",
    "model.add_module('softmax', nn.Softmax(dim=1))"
   ]
  },
  {
   "cell_type": "code",
   "execution_count": 9,
   "id": "9792edcd",
   "metadata": {},
   "outputs": [],
   "source": [
    "loss_fn = nn.CrossEntropyLoss()\n",
    "optimizer = torch.optim.Adam(model.parameters(), lr=0.001)"
   ]
  },
  {
   "cell_type": "code",
   "execution_count": 10,
   "id": "2f1167cc",
   "metadata": {},
   "outputs": [],
   "source": [
    "def train(model, num_epochs, train_dl, valid_dl):\n",
    "    loss_hist_train = [0] * num_epochs\n",
    "    accuracy_hist_train = [0] * num_epochs\n",
    "    loss_hist_valid = [0] * num_epochs\n",
    "    accuracy_hist_valid = [0] * num_epochs\n",
    "    for epoch in range(num_epochs):\n",
    "        model.train()\n",
    "        for x_batch, y_batch in train_dl:\n",
    "            pred = model(x_batch)\n",
    "            loss = loss_fn(pred, y_batch)\n",
    "            loss.backward()\n",
    "            optimizer.step()\n",
    "            optimizer.zero_grad()\n",
    "            loss_hist_train[epoch] += loss.item() * y_batch.size(0)\n",
    "            is_correct = (torch.argmax(pred, dim=1) == y_batch).float()\n",
    "            accuracy_hist_train[epoch] += is_correct.sum()\n",
    "        \n",
    "        loss_hist_train[epoch] /= len(train_dl.dataset)\n",
    "        accuracy_hist_train[epoch] /= len(train_dl.dataset)\n",
    "\n",
    "        model.eval()\n",
    "        with torch.no_grad():\n",
    "            for x_batch, y_batch in valid_dl:\n",
    "                pred = model(x_batch)\n",
    "                loss = loss_fn(pred, y_batch)\n",
    "                loss_hist_valid[epoch] += loss.item() * y_batch.size(0)\n",
    "                is_correct = (torch.argmax(pred, dim=1) == y_batch).float()\n",
    "                accuracy_hist_valid[epoch] += is_correct.sum()\n",
    "        loss_hist_valid[epoch] /= len(valid_dl.dataset)\n",
    "        accuracy_hist_valid[epoch] /= len(valid_dl.dataset)\n",
    "\n",
    "        print(f'Epoch {epoch+1} accuracy: '\n",
    "              f'{accuracy_hist_train[epoch]:.4f} val accuracy: '\n",
    "              f'{accuracy_hist_valid[epoch]:.4f}')\n",
    "    return loss_hist_train, loss_hist_valid, accuracy_hist_train, accuracy_hist_valid\n"
   ]
  },
  {
   "cell_type": "code",
   "execution_count": 11,
   "id": "7be0fda5",
   "metadata": {},
   "outputs": [
    {
     "name": "stdout",
     "output_type": "stream",
     "text": [
      "Epoch 1 accuracy: 0.9257 val accuracy: 0.9704\n",
      "Epoch 2 accuracy: 0.9724 val accuracy: 0.9789\n",
      "Epoch 3 accuracy: 0.9789 val accuracy: 0.9835\n",
      "Epoch 4 accuracy: 0.9818 val accuracy: 0.9798\n",
      "Epoch 5 accuracy: 0.9828 val accuracy: 0.9830\n",
      "Epoch 6 accuracy: 0.9841 val accuracy: 0.9847\n",
      "Epoch 7 accuracy: 0.9848 val accuracy: 0.9856\n",
      "Epoch 8 accuracy: 0.9857 val accuracy: 0.9846\n",
      "Epoch 9 accuracy: 0.9874 val accuracy: 0.9826\n",
      "Epoch 10 accuracy: 0.9857 val accuracy: 0.9868\n",
      "Epoch 11 accuracy: 0.9869 val accuracy: 0.9861\n",
      "Epoch 12 accuracy: 0.9868 val accuracy: 0.9847\n",
      "Epoch 13 accuracy: 0.9874 val accuracy: 0.9854\n",
      "Epoch 14 accuracy: 0.9880 val accuracy: 0.9864\n",
      "Epoch 15 accuracy: 0.9884 val accuracy: 0.9846\n",
      "Epoch 16 accuracy: 0.9879 val accuracy: 0.9861\n",
      "Epoch 17 accuracy: 0.9877 val accuracy: 0.9859\n",
      "Epoch 18 accuracy: 0.9869 val accuracy: 0.9843\n",
      "Epoch 19 accuracy: 0.9874 val accuracy: 0.9836\n",
      "Epoch 20 accuracy: 0.9889 val accuracy: 0.9838\n"
     ]
    }
   ],
   "source": [
    "torch.manual_seed(1)\n",
    "num_epochs = 20\n",
    "hist = train(model, num_epochs, train_dl, valid_dl)"
   ]
  },
  {
   "cell_type": "code",
   "execution_count": 12,
   "id": "7a099f78",
   "metadata": {},
   "outputs": [
    {
     "data": {
      "image/png": "[encoded data removed]",
      "text/plain": [
       "<Figure size 1200x400 with 2 Axes>"
      ]
     },
     "metadata": {},
     "output_type": "display_data"
    }
   ],
   "source": [
    "import matplotlib.pyplot as plt\n",
    "x_arr = np.arange(len(hist[0])) + 1\n",
    "fig = plt.figure(figsize=(12, 4))\n",
    "ax = fig.add_subplot(1, 2, 1)\n",
    "ax.plot(x_arr, hist[0], '-o', label='Train loss')\n",
    "ax.plot(x_arr, hist[1], '--<', label='Validation loss')\n",
    "ax.set_xlabel('Epoch', size=15)\n",
    "ax.set_ylabel('Loss', size=15)\n",
    "ax.legend(fontsize=15)\n",
    "ax = fig.add_subplot(1, 2, 2)\n",
    "ax.plot(x_arr, hist[2], '-o', label='Train acc.')\n",
    "ax.plot(x_arr, hist[3], '--<', label='Validation acc.')\n",
    "ax.set_xlabel('Epoch', size=15)\n",
    "ax.set_ylabel('Accuracy', size=15)\n",
    "plt.show()"
   ]
  },
  {
   "cell_type": "code",
   "execution_count": 13,
   "id": "8218e0b4",
   "metadata": {},
   "outputs": [
    {
     "name": "stdout",
     "output_type": "stream",
     "text": [
      "Test accuracy: 0.9897\n"
     ]
    }
   ],
   "source": [
    "pred = model(mnist_test_dataset.data.unsqueeze(1).float() / 255.0)\n",
    "is_correct = (torch.argmax(pred, dim=1) == mnist_test_dataset.targets).float()\n",
    "print(f'Test accuracy: {is_correct.mean():.4f}')"
   ]
  },
  {
   "cell_type": "code",
   "execution_count": 15,
   "id": "703e1416",
   "metadata": {},
   "outputs": [
    {
     "data": {
      "image/png": "[encoded data removed]",
      "text/plain": [
       "<Figure size 1200x400 with 12 Axes>"
      ]
     },
     "metadata": {},
     "output_type": "display_data"
    }
   ],
   "source": [
    "fig = plt.figure(figsize=(12, 4))\n",
    "for i in range(12):\n",
    "    ax = fig.add_subplot(2, 6, i+1)\n",
    "    ax.set_xticks([]); ax.set_yticks([])\n",
    "    img = mnist_test_dataset[i][0][0, :, :]\n",
    "    pred = model(img.unsqueeze(0).unsqueeze(1))\n",
    "    y_pred = torch.argmax(pred)\n",
    "    ax.imshow(img, cmap='gray_r')\n",
    "    ax.text(0.9, 0.1, y_pred.item(), size=15, color='blue',\n",
    "            horizontalalignment='center', verticalalignment='center',\n",
    "            transform=ax.transAxes)\n",
    "    \n",
    "plt.show()"
   ]
  },
  {
   "cell_type": "markdown",
   "id": "ad37195d",
   "metadata": {},
   "source": []
  }
 ],
 "metadata": {
  "kernelspec": {
   "display_name": "StudyML",
   "language": "python",
   "name": "python3"
  },
  "language_info": {
   "codemirror_mode": {
    "name": "ipython",
    "version": 3
   },
   "file_extension": ".py",
   "mimetype": "text/x-python",
   "name": "python",
   "nbconvert_exporter": "python",
   "pygments_lexer": "ipython3",
   "version": "3.13.2"
  }
 },
 "nbformat": 4,
 "nbformat_minor": 5
}
