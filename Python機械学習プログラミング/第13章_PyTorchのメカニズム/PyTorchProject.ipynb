{
 "cells": [
  {
   "cell_type": "markdown",
   "id": "2af964fe",
   "metadata": {},
   "source": [
    "# PyTorch実装"
   ]
  },
  {
   "cell_type": "markdown",
   "id": "c7ee93df",
   "metadata": {},
   "source": [
    "## プロジェクト１：車の燃費を予測する"
   ]
  },
  {
   "cell_type": "code",
   "execution_count": 1,
   "id": "7c63b40d",
   "metadata": {},
   "outputs": [
    {
     "data": {
      "text/html": [
       "<div>\n",
       "<style scoped>\n",
       "    .dataframe tbody tr th:only-of-type {\n",
       "        vertical-align: middle;\n",
       "    }\n",
       "\n",
       "    .dataframe tbody tr th {\n",
       "        vertical-align: top;\n",
       "    }\n",
       "\n",
       "    .dataframe thead th {\n",
       "        text-align: right;\n",
       "    }\n",
       "</style>\n",
       "<table border=\"1\" class=\"dataframe\">\n",
       "  <thead>\n",
       "    <tr style=\"text-align: right;\">\n",
       "      <th></th>\n",
       "      <th>MPG</th>\n",
       "      <th>Cylinders</th>\n",
       "      <th>Displacement</th>\n",
       "      <th>Horsepower</th>\n",
       "      <th>Weight</th>\n",
       "      <th>Acceleration</th>\n",
       "      <th>Model Year</th>\n",
       "      <th>Origin</th>\n",
       "    </tr>\n",
       "  </thead>\n",
       "  <tbody>\n",
       "    <tr>\n",
       "      <th>203</th>\n",
       "      <td>28.0</td>\n",
       "      <td>-0.824303</td>\n",
       "      <td>-0.901020</td>\n",
       "      <td>-0.736562</td>\n",
       "      <td>-0.950031</td>\n",
       "      <td>0.255202</td>\n",
       "      <td>76</td>\n",
       "      <td>3</td>\n",
       "    </tr>\n",
       "    <tr>\n",
       "      <th>255</th>\n",
       "      <td>19.4</td>\n",
       "      <td>0.351127</td>\n",
       "      <td>0.413800</td>\n",
       "      <td>-0.340982</td>\n",
       "      <td>0.293190</td>\n",
       "      <td>0.548737</td>\n",
       "      <td>78</td>\n",
       "      <td>1</td>\n",
       "    </tr>\n",
       "    <tr>\n",
       "      <th>72</th>\n",
       "      <td>13.0</td>\n",
       "      <td>1.526556</td>\n",
       "      <td>1.144256</td>\n",
       "      <td>0.713897</td>\n",
       "      <td>1.339617</td>\n",
       "      <td>-0.625403</td>\n",
       "      <td>72</td>\n",
       "      <td>1</td>\n",
       "    </tr>\n",
       "    <tr>\n",
       "      <th>235</th>\n",
       "      <td>30.5</td>\n",
       "      <td>-0.824303</td>\n",
       "      <td>-0.891280</td>\n",
       "      <td>-1.053025</td>\n",
       "      <td>-1.072585</td>\n",
       "      <td>0.475353</td>\n",
       "      <td>77</td>\n",
       "      <td>1</td>\n",
       "    </tr>\n",
       "    <tr>\n",
       "      <th>37</th>\n",
       "      <td>14.0</td>\n",
       "      <td>1.526556</td>\n",
       "      <td>1.563051</td>\n",
       "      <td>1.636916</td>\n",
       "      <td>1.470420</td>\n",
       "      <td>-1.359240</td>\n",
       "      <td>71</td>\n",
       "      <td>1</td>\n",
       "    </tr>\n",
       "  </tbody>\n",
       "</table>\n",
       "</div>"
      ],
      "text/plain": [
       "      MPG  Cylinders  Displacement  Horsepower    Weight  Acceleration  \\\n",
       "203  28.0  -0.824303     -0.901020   -0.736562 -0.950031      0.255202   \n",
       "255  19.4   0.351127      0.413800   -0.340982  0.293190      0.548737   \n",
       "72   13.0   1.526556      1.144256    0.713897  1.339617     -0.625403   \n",
       "235  30.5  -0.824303     -0.891280   -1.053025 -1.072585      0.475353   \n",
       "37   14.0   1.526556      1.563051    1.636916  1.470420     -1.359240   \n",
       "\n",
       "     Model Year  Origin  \n",
       "203          76       3  \n",
       "255          78       1  \n",
       "72           72       1  \n",
       "235          77       1  \n",
       "37           71       1  "
      ]
     },
     "execution_count": 1,
     "metadata": {},
     "output_type": "execute_result"
    }
   ],
   "source": [
    "import pandas as pd\n",
    "url = 'http://archive.ics.uci.edu/ml/machine-learning-databases/auto-mpg/auto-mpg.data'\n",
    "columns = ['MPG', 'Cylinders', 'Displacement', 'Horsepower', 'Weight', 'Acceleration', 'Model Year', 'Origin']\n",
    "df = pd.read_csv(url, names=columns, na_values='?', comment='\\t', sep=' ', skipinitialspace=True)\n",
    "\n",
    "# 不要な行を削除\n",
    "df = df.dropna()\n",
    "df = df.reset_index(drop=True)\n",
    "# 訓練データセットとテストデータに分割\n",
    "import sklearn\n",
    "df_train, df_test = sklearn.model_selection.train_test_split(df, train_size=0.8, random_state=1)\n",
    "train_stats = df_train.describe().transpose()\n",
    "numeric_column_names = ['Cylinders', 'Displacement', 'Horsepower', 'Weight', 'Acceleration']\n",
    "df_train_norm, df_test_norm = df_train.copy(), df_test.copy()\n",
    "for col_name in numeric_column_names:\n",
    "    mean = train_stats.loc[col_name, 'mean']\n",
    "    std = train_stats.loc[col_name, 'std']\n",
    "    # 先に float64 に変換しておく（警告対策）\n",
    "    df_train_norm[col_name] = df_train_norm[col_name].astype('float64')\n",
    "    df_test_norm[col_name] = df_test_norm[col_name].astype('float64')\n",
    "    # z-score 標準化\n",
    "    df_train_norm[col_name] = (df_train_norm[col_name] - mean) / std\n",
    "    df_test_norm[col_name] = (df_test_norm[col_name] - mean) / std\n",
    "\n",
    "df_train_norm.tail()"
   ]
  },
  {
   "cell_type": "code",
   "execution_count": 2,
   "id": "9144b274",
   "metadata": {},
   "outputs": [],
   "source": [
    "# Model Yearをバケットに変換 例：{bucket0: 1970, bucket1: 1971, ..., bucket7: 1977}\n",
    "import torch\n",
    "boundaries = torch.tensor([73, 76, 79])\n",
    "v = torch.tensor(df_train_norm['Model Year'].values)\n",
    "df_train_norm['Model Year Bucketed'] = torch.bucketize(v, boundaries, right=True)\n",
    "v = torch.tensor(df_test_norm['Model Year'].values)\n",
    "df_test_norm['Model Year Bucketed'] = torch.bucketize(v, boundaries, right=True)\n",
    "numeric_column_names.append('Model Year Bucketed')"
   ]
  },
  {
   "cell_type": "code",
   "execution_count": 3,
   "id": "3fdbab91",
   "metadata": {},
   "outputs": [],
   "source": [
    "# one-hotエンコーディング\n",
    "from torch.nn.functional import one_hot\n",
    "total_origin = len(set(df_train_norm['Origin']))\n",
    "origin_encoded = one_hot(torch.from_numpy(df_train_norm['Origin'].values) % total_origin)\n",
    "x_train_numeric = torch.tensor(df_train_norm[numeric_column_names].values)\n",
    "x_train = torch.cat([x_train_numeric, origin_encoded], 1).float()\n",
    "origin_encoded = one_hot(torch.from_numpy(df_test_norm['Origin'].values) % total_origin)\n",
    "x_test_numeric = torch.tensor(df_test_norm[numeric_column_names].values)\n",
    "x_test = torch.cat([x_test_numeric, origin_encoded], 1).float()"
   ]
  },
  {
   "cell_type": "code",
   "execution_count": 4,
   "id": "f08a510b",
   "metadata": {},
   "outputs": [],
   "source": [
    "y_train = torch.tensor(df_train_norm['MPG'].values).float()\n",
    "y_test = torch.tensor(df_test_norm['MPG'].values).float()"
   ]
  },
  {
   "cell_type": "code",
   "execution_count": 5,
   "id": "8f831210",
   "metadata": {},
   "outputs": [],
   "source": [
    "from torch.utils.data import TensorDataset, DataLoader\n",
    "train_ds = TensorDataset(x_train, y_train)\n",
    "batch_size = 8\n",
    "torch.manual_seed(1)\n",
    "train_dl = DataLoader(train_ds, batch_size=batch_size, shuffle=True)"
   ]
  },
  {
   "cell_type": "code",
   "execution_count": 6,
   "id": "786f9174",
   "metadata": {},
   "outputs": [
    {
     "data": {
      "text/plain": [
       "Sequential(\n",
       "  (0): Linear(in_features=9, out_features=8, bias=True)\n",
       "  (1): ReLU()\n",
       "  (2): Linear(in_features=8, out_features=4, bias=True)\n",
       "  (3): ReLU()\n",
       "  (4): Linear(in_features=4, out_features=1, bias=True)\n",
       ")"
      ]
     },
     "execution_count": 6,
     "metadata": {},
     "output_type": "execute_result"
    }
   ],
   "source": [
    "import torch.nn as nn\n",
    "hidden_units = [8, 4]\n",
    "input_size = x_train.shape[1]\n",
    "all_layers = []\n",
    "for hidden_unit in hidden_units:\n",
    "    layer = nn.Linear(input_size, hidden_unit)\n",
    "    all_layers.append(layer)\n",
    "    all_layers.append(nn.ReLU())\n",
    "    input_size = hidden_unit\n",
    "\n",
    "all_layers.append(nn.Linear(hidden_units[-1], 1))\n",
    "model = nn.Sequential(*all_layers)\n",
    "model"
   ]
  },
  {
   "cell_type": "code",
   "execution_count": 7,
   "id": "48883965",
   "metadata": {},
   "outputs": [],
   "source": [
    "loss_fn = nn.MSELoss()\n",
    "optimizer = torch.optim.Adam(model.parameters(), lr=0.001)"
   ]
  },
  {
   "cell_type": "code",
   "execution_count": 8,
   "id": "286537b1",
   "metadata": {},
   "outputs": [
    {
     "name": "stdout",
     "output_type": "stream",
     "text": [
      "Epoch 0, Loss: 627.325813293457\n",
      "Epoch 20, Loss: 12.1157776594162\n",
      "Epoch 40, Loss: 8.858593660593034\n",
      "Epoch 60, Loss: 7.987342631816864\n",
      "Epoch 80, Loss: 7.664143167436123\n",
      "Epoch 100, Loss: 7.636634939908982\n",
      "Epoch 120, Loss: 7.644381168484688\n",
      "Epoch 140, Loss: 7.975517475605011\n",
      "Epoch 160, Loss: 7.91185485124588\n",
      "Epoch 180, Loss: 7.8687692195177075\n"
     ]
    }
   ],
   "source": [
    "torch.manual_seed(1)\n",
    "num_epochs = 200\n",
    "log_epochs = 20\n",
    "for epoch in range(num_epochs):\n",
    "    loss_hist_train = 0.0\n",
    "    for x_batch, y_batch in train_dl:\n",
    "        pred = model(x_batch)[:, 0] # すべての行（:）から、0番目の列（0）だけを取り出す\n",
    "        loss = loss_fn(pred, y_batch)\n",
    "        loss.backward()\n",
    "        optimizer.step()\n",
    "        optimizer.zero_grad()\n",
    "        loss_hist_train += loss.item()\n",
    "    if epoch % log_epochs == 0:\n",
    "        print(f'Epoch {epoch}, Loss: {loss_hist_train / len(train_dl)}')\n"
   ]
  },
  {
   "cell_type": "code",
   "execution_count": 9,
   "id": "ca24158b",
   "metadata": {},
   "outputs": [
    {
     "name": "stdout",
     "output_type": "stream",
     "text": [
      "Test Loss: 9.7880\n",
      "Test MAE: 2.0775\n"
     ]
    }
   ],
   "source": [
    "with torch.no_grad():\n",
    "    pred = model(x_test.float())[:, 0]\n",
    "    loss = loss_fn(pred, y_test)\n",
    "    print(f'Test Loss: {loss.item():.4f}')\n",
    "    print(f'Test MAE: {nn.L1Loss()(pred, y_test).item():.4f}')"
   ]
  },
  {
   "cell_type": "markdown",
   "id": "9735ed49",
   "metadata": {},
   "source": [
    "## プロジェクト２：MNISTの手書きの数字を分類する"
   ]
  },
  {
   "cell_type": "code",
   "execution_count": 10,
   "id": "2e35de15",
   "metadata": {},
   "outputs": [],
   "source": [
    "import torchvision\n",
    "from torchvision import transforms\n",
    "image_path = './'\n",
    "transform = transforms.Compose([transforms.ToTensor()]) # [0, 255] -> [0.0, 1.0] に変換\n",
    "mnist_train_dataset = torchvision.datasets.MNIST(image_path, train=True, download=False, transform=transform)\n",
    "mnist_test_dataset = torchvision.datasets.MNIST(image_path, train=False, download=False, transform=transform)\n",
    "batch_size = 64\n",
    "torch.manual_seed(1)\n",
    "train_dl = DataLoader(mnist_train_dataset, batch_size=batch_size, shuffle=True)"
   ]
  },
  {
   "cell_type": "code",
   "execution_count": 11,
   "id": "362082ca",
   "metadata": {},
   "outputs": [
    {
     "data": {
      "text/plain": [
       "Sequential(\n",
       "  (0): Flatten(start_dim=1, end_dim=-1)\n",
       "  (1): Linear(in_features=784, out_features=32, bias=True)\n",
       "  (2): ReLU()\n",
       "  (3): Linear(in_features=32, out_features=16, bias=True)\n",
       "  (4): ReLU()\n",
       "  (5): Linear(in_features=16, out_features=10, bias=True)\n",
       "  (6): Softmax(dim=1)\n",
       ")"
      ]
     },
     "execution_count": 11,
     "metadata": {},
     "output_type": "execute_result"
    }
   ],
   "source": [
    "hidden_units = [32, 16]\n",
    "image_size = mnist_train_dataset[0][0].shape\n",
    "input_size = image_size[0] * image_size[1] * image_size[2]\n",
    "all_layers = [nn.Flatten()]\n",
    "for hidden_unit in hidden_units:\n",
    "    layer = nn.Linear(input_size, hidden_unit)\n",
    "    all_layers.append(layer)\n",
    "    all_layers.append(nn.ReLU())\n",
    "    input_size = hidden_unit\n",
    "\n",
    "all_layers.append(nn.Linear(hidden_units[-1], 10))\n",
    "all_layers.append(nn.Softmax(dim=1))  # 出力を確率に変換\n",
    "model = nn.Sequential(*all_layers)\n",
    "model"
   ]
  },
  {
   "cell_type": "code",
   "execution_count": 12,
   "id": "ac572b72",
   "metadata": {},
   "outputs": [
    {
     "name": "stdout",
     "output_type": "stream",
     "text": [
      "Epoch 0, Accuracy: 0.7754\n",
      "Epoch 1, Accuracy: 0.9152\n",
      "Epoch 2, Accuracy: 0.9299\n",
      "Epoch 3, Accuracy: 0.9384\n",
      "Epoch 4, Accuracy: 0.9433\n",
      "Epoch 5, Accuracy: 0.9470\n",
      "Epoch 6, Accuracy: 0.9508\n",
      "Epoch 7, Accuracy: 0.9538\n",
      "Epoch 8, Accuracy: 0.9564\n",
      "Epoch 9, Accuracy: 0.9575\n",
      "Epoch 10, Accuracy: 0.9596\n",
      "Epoch 11, Accuracy: 0.9613\n",
      "Epoch 12, Accuracy: 0.9626\n",
      "Epoch 13, Accuracy: 0.9642\n",
      "Epoch 14, Accuracy: 0.9651\n",
      "Epoch 15, Accuracy: 0.9674\n",
      "Epoch 16, Accuracy: 0.9676\n",
      "Epoch 17, Accuracy: 0.9688\n",
      "Epoch 18, Accuracy: 0.9699\n",
      "Epoch 19, Accuracy: 0.9710\n"
     ]
    }
   ],
   "source": [
    "loss_fn = nn.CrossEntropyLoss()\n",
    "optimizer = torch.optim.Adam(model.parameters(), lr=0.001)\n",
    "torch.manual_seed(1)\n",
    "num_epochs = 20\n",
    "for epoch in range(num_epochs):\n",
    "    accuracy_hist_train = 0.0\n",
    "    for x_batch, y_batch in train_dl:\n",
    "        pred = model(x_batch)\n",
    "        loss = loss_fn(pred, y_batch)\n",
    "        loss.backward()\n",
    "        optimizer.step()\n",
    "        optimizer.zero_grad()\n",
    "        is_correct = (pred.argmax(dim=1) == y_batch).float()\n",
    "        accuracy_hist_train += is_correct.sum()\n",
    "\n",
    "    accuracy_hist_train /= len(train_dl.dataset)\n",
    "    print(f'Epoch {epoch}, Accuracy: {accuracy_hist_train:.4f}')"
   ]
  },
  {
   "cell_type": "code",
   "execution_count": 14,
   "id": "9de54d20",
   "metadata": {},
   "outputs": [
    {
     "name": "stdout",
     "output_type": "stream",
     "text": [
      "Test Accuracy: 0.9570\n"
     ]
    }
   ],
   "source": [
    "pred = model(mnist_test_dataset.data / 255.0)\n",
    "is_correct = (pred.argmax(dim=1) == mnist_test_dataset.targets).float()\n",
    "print(f'Test Accuracy: {is_correct.mean():.4f}')"
   ]
  }
 ],
 "metadata": {
  "kernelspec": {
   "display_name": "StudyML",
   "language": "python",
   "name": "python3"
  },
  "language_info": {
   "codemirror_mode": {
    "name": "ipython",
    "version": 3
   },
   "file_extension": ".py",
   "mimetype": "text/x-python",
   "name": "python",
   "nbconvert_exporter": "python",
   "pygments_lexer": "ipython3",
   "version": "3.13.2"
  }
 },
 "nbformat": 4,
 "nbformat_minor": 5
}
