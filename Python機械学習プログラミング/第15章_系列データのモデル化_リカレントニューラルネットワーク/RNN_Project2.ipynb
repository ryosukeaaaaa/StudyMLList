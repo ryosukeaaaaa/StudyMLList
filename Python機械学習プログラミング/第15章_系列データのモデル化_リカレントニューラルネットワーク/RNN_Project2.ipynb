{
 "cells": [
  {
   "cell_type": "markdown",
   "id": "e854dd78",
   "metadata": {},
   "source": [
    "# プロジェクト2：文字レベルの言語モデルをPyTorchで実装する"
   ]
  },
  {
   "cell_type": "code",
   "execution_count": 1,
   "id": "49932dbd",
   "metadata": {},
   "outputs": [
    {
     "name": "stdout",
     "output_type": "stream",
     "text": [
      "Total Length: 1112309\n",
      "Unique Characters: 80\n"
     ]
    }
   ],
   "source": [
    "import numpy as np\n",
    "# テキストを読み込んで処理\n",
    "with open('1268-0.txt', 'r', encoding='utf-8') as fp:\n",
    "    text = fp.read()\n",
    "\n",
    "start_indx = text.find('THE MYSTERIOUS ISLAND')\n",
    "end_indx = text.find('END of the Project Gutenberg')\n",
    "text = text[start_indx:end_indx]\n",
    "char_set = set(text)\n",
    "print('Total Length:', len(text))\n",
    "print('Unique Characters:', len(char_set))"
   ]
  },
  {
   "cell_type": "code",
   "execution_count": 2,
   "id": "b1910bdc",
   "metadata": {},
   "outputs": [
    {
     "name": "stdout",
     "output_type": "stream",
     "text": [
      "Text encoded shape: (1112309,)\n",
      "THE MYSTERIOUS  == Encoding ==> [44 32 29  1 37 48 43 44 29 42 33 39 45 43  1]\n",
      "[33 43 36 25 38 28] == Reverse ==> ISLAND\n"
     ]
    }
   ],
   "source": [
    "chars_sorted = sorted(char_set)\n",
    "char2int = {ch: i for i, ch in enumerate(chars_sorted)}\n",
    "cahr_array = np.array(chars_sorted)\n",
    "text_encoded = np.array([char2int[ch] for ch in text], dtype=np.int32)\n",
    "print('Text encoded shape:', text_encoded.shape)\n",
    "print(text[:15], '== Encoding ==>', text_encoded[:15])\n",
    "print(text_encoded[15:21], '== Reverse ==>', ''.join(cahr_array[text_encoded[15:21]]))"
   ]
  },
  {
   "cell_type": "code",
   "execution_count": 3,
   "id": "24ac7fc9",
   "metadata": {},
   "outputs": [
    {
     "name": "stdout",
     "output_type": "stream",
     "text": [
      "44 -> T\n",
      "32 -> H\n",
      "29 -> E\n",
      "1 ->  \n",
      "37 -> M\n"
     ]
    }
   ],
   "source": [
    "for ex in text_encoded[:5]:\n",
    "    print('{} -> {}'.format(ex, cahr_array[ex]))"
   ]
  },
  {
   "cell_type": "code",
   "execution_count": 4,
   "id": "e4c7685b",
   "metadata": {},
   "outputs": [
    {
     "name": "stderr",
     "output_type": "stream",
     "text": [
      "/var/folders/zg/773ptkr55z99zw26dvy19_v00000gn/T/ipykernel_23864/1343181172.py:18: UserWarning: Creating a tensor from a list of numpy.ndarrays is extremely slow. Please consider converting the list to a single numpy.ndarray with numpy.array() before converting to a tensor. (Triggered internally at /Users/runner/work/pytorch/pytorch/pytorch/torch/csrc/utils/tensor_new.cpp:257.)\n",
      "  seq_dataset = TextDataset(torch.tensor(text_chunks))\n"
     ]
    }
   ],
   "source": [
    "import torch\n",
    "from torch.utils.data import Dataset\n",
    "seq_length = 40\n",
    "chunk_size = seq_length + 1\n",
    "text_chunks = [text_encoded[i:i + chunk_size] for i in range(len(text_encoded) - chunk_size +1)]\n",
    "\n",
    "class TextDataset(Dataset):\n",
    "    def __init__(self, text_chunks):\n",
    "        self.text_chunks = text_chunks\n",
    "\n",
    "    def __len__(self):\n",
    "        return len(self.text_chunks)\n",
    "\n",
    "    def __getitem__(self, idx):\n",
    "        text_chunk = self.text_chunks[idx]\n",
    "        return text_chunk[:-1].long(), text_chunk[1:].long()\n",
    "    \n",
    "seq_dataset = TextDataset(torch.tensor(text_chunks))"
   ]
  },
  {
   "cell_type": "code",
   "execution_count": 5,
   "id": "05ddf52a",
   "metadata": {},
   "outputs": [
    {
     "name": "stdout",
     "output_type": "stream",
     "text": [
      " Input (x):  'THE MYSTERIOUS ISLAND\\n\\nby Jules Verne\\n\\n1'\n",
      "Target (y):  'HE MYSTERIOUS ISLAND\\n\\nby Jules Verne\\n\\n18'\n",
      "\n",
      " Input (x):  'HE MYSTERIOUS ISLAND\\n\\nby Jules Verne\\n\\n18'\n",
      "Target (y):  'E MYSTERIOUS ISLAND\\n\\nby Jules Verne\\n\\n187'\n",
      "\n"
     ]
    }
   ],
   "source": [
    "for i, (seq, target) in enumerate(seq_dataset):\n",
    "    print(' Input (x): ', repr(''.join(cahr_array[seq])))\n",
    "    print('Target (y): ', repr(''.join(cahr_array[target])))\n",
    "    print()\n",
    "    if i == 1:\n",
    "        break"
   ]
  },
  {
   "cell_type": "code",
   "execution_count": 6,
   "id": "d8af88c0",
   "metadata": {},
   "outputs": [],
   "source": [
    "from torch.utils.data import DataLoader\n",
    "batch_size = 64\n",
    "torch.manual_seed(1)\n",
    "seq_dl = DataLoader(seq_dataset, batch_size=batch_size, shuffle=True, drop_last=True)"
   ]
  },
  {
   "cell_type": "code",
   "execution_count": 7,
   "id": "3839aba9",
   "metadata": {},
   "outputs": [],
   "source": [
    "import torch.nn as nn\n",
    "\n",
    "class RNN(nn.Module):\n",
    "    def __init__(self, vocab_size, embed_size, rnn_hidden_size):\n",
    "        super().__init__()\n",
    "        self.embedding = nn.Embedding(vocab_size, embed_size)\n",
    "        self.rnn_hidden_size = rnn_hidden_size\n",
    "        self.rnn = nn.LSTM(embed_size, rnn_hidden_size, batch_first=True)\n",
    "        self.fc = nn.Linear(rnn_hidden_size, vocab_size)\n",
    "\n",
    "    def forward(self, x, hidden, cell):\n",
    "        out = self.embedding(x).unsqueeze(1)\n",
    "        out, (hidden, cell) = self.rnn(out, (hidden, cell))\n",
    "        out = self.fc(out).reshape(out.size(0), -1)\n",
    "        return out, hidden, cell\n",
    "    \n",
    "    def init_hidden(self, batch_size):\n",
    "        hidden = torch.zeros(1, batch_size, self.rnn_hidden_size)\n",
    "        cell = torch.zeros(1, batch_size, self.rnn_hidden_size)\n",
    "        return hidden, cell"
   ]
  },
  {
   "cell_type": "code",
   "execution_count": 8,
   "id": "5a7d1f0f",
   "metadata": {},
   "outputs": [
    {
     "name": "stdout",
     "output_type": "stream",
     "text": [
      "RNN(\n",
      "  (embedding): Embedding(80, 256)\n",
      "  (rnn): LSTM(256, 512, batch_first=True)\n",
      "  (fc): Linear(in_features=512, out_features=80, bias=True)\n",
      ")\n"
     ]
    }
   ],
   "source": [
    "vocab_size = len(char_set)\n",
    "embed_size = 256\n",
    "rnn_hidden_size = 512\n",
    "torch.manual_seed(1)\n",
    "model = RNN(vocab_size, embed_size, rnn_hidden_size)\n",
    "print(model)"
   ]
  },
  {
   "cell_type": "code",
   "execution_count": 9,
   "id": "2b5457d3",
   "metadata": {},
   "outputs": [],
   "source": [
    "loss_fn = nn.CrossEntropyLoss()\n",
    "optimizer = torch.optim.Adam(model.parameters(), lr=0.005)"
   ]
  },
  {
   "cell_type": "code",
   "execution_count": 10,
   "id": "fc0fa17e",
   "metadata": {},
   "outputs": [
    {
     "name": "stdout",
     "output_type": "stream",
     "text": [
      "Epoch 0, loss: 4.3720\n",
      "Epoch 100, loss: 1.7148\n",
      "Epoch 200, loss: 1.5688\n",
      "Epoch 300, loss: 1.4150\n",
      "Epoch 400, loss: 1.3449\n",
      "Epoch 500, loss: 1.4155\n",
      "Epoch 600, loss: 1.3027\n",
      "Epoch 700, loss: 1.3343\n",
      "Epoch 800, loss: 1.2885\n",
      "Epoch 900, loss: 1.2950\n",
      "Epoch 1000, loss: 1.3157\n",
      "Epoch 1100, loss: 1.2778\n",
      "Epoch 1200, loss: 1.2536\n",
      "Epoch 1300, loss: 1.2551\n",
      "Epoch 1400, loss: 1.2739\n",
      "Epoch 1500, loss: 1.3049\n",
      "Epoch 1600, loss: 1.2745\n",
      "Epoch 1700, loss: 1.2224\n",
      "Epoch 1800, loss: 1.2883\n",
      "Epoch 1900, loss: 1.2362\n",
      "Epoch 2000, loss: 1.2192\n",
      "Epoch 2100, loss: 1.2425\n",
      "Epoch 2200, loss: 1.2555\n",
      "Epoch 2300, loss: 1.1883\n",
      "Epoch 2400, loss: 1.1441\n",
      "Epoch 2500, loss: 1.1865\n",
      "Epoch 2600, loss: 1.2089\n",
      "Epoch 2700, loss: 1.1773\n",
      "Epoch 2800, loss: 1.1980\n",
      "Epoch 2900, loss: 1.2071\n",
      "Epoch 3000, loss: 1.1528\n",
      "Epoch 3100, loss: 1.2140\n",
      "Epoch 3200, loss: 1.1547\n",
      "Epoch 3300, loss: 1.1545\n",
      "Epoch 3400, loss: 1.1960\n",
      "Epoch 3500, loss: 1.1764\n",
      "Epoch 3600, loss: 1.2323\n",
      "Epoch 3700, loss: 1.1993\n",
      "Epoch 3800, loss: 1.1715\n",
      "Epoch 3900, loss: 1.1584\n",
      "Epoch 4000, loss: 1.1229\n",
      "Epoch 4100, loss: 1.1602\n",
      "Epoch 4200, loss: 1.1494\n",
      "Epoch 4300, loss: 1.1971\n",
      "Epoch 4400, loss: 1.1737\n",
      "Epoch 4500, loss: 1.1418\n",
      "Epoch 4600, loss: 1.1468\n",
      "Epoch 4700, loss: 1.1085\n",
      "Epoch 4800, loss: 1.1705\n",
      "Epoch 4900, loss: 1.1571\n",
      "Epoch 5000, loss: 1.1400\n",
      "Epoch 5100, loss: 1.1631\n",
      "Epoch 5200, loss: 1.1561\n",
      "Epoch 5300, loss: 1.1126\n",
      "Epoch 5400, loss: 1.1346\n",
      "Epoch 5500, loss: 1.1442\n",
      "Epoch 5600, loss: 1.1309\n",
      "Epoch 5700, loss: 1.1859\n",
      "Epoch 5800, loss: 1.1771\n",
      "Epoch 5900, loss: 1.1873\n",
      "Epoch 6000, loss: 1.1281\n",
      "Epoch 6100, loss: 1.1515\n",
      "Epoch 6200, loss: 1.1286\n",
      "Epoch 6300, loss: 1.0918\n",
      "Epoch 6400, loss: 1.1510\n",
      "Epoch 6500, loss: 1.1563\n",
      "Epoch 6600, loss: 1.1371\n",
      "Epoch 6700, loss: 1.1801\n",
      "Epoch 6800, loss: 1.1273\n",
      "Epoch 6900, loss: 1.1703\n",
      "Epoch 7000, loss: 1.1025\n",
      "Epoch 7100, loss: 1.1080\n",
      "Epoch 7200, loss: 1.1313\n",
      "Epoch 7300, loss: 1.1182\n",
      "Epoch 7400, loss: 1.1463\n",
      "Epoch 7500, loss: 1.1211\n",
      "Epoch 7600, loss: 1.1669\n",
      "Epoch 7700, loss: 1.1661\n",
      "Epoch 7800, loss: 1.1448\n",
      "Epoch 7900, loss: 1.1188\n",
      "Epoch 8000, loss: 1.1263\n",
      "Epoch 8100, loss: 1.1217\n",
      "Epoch 8200, loss: 1.1584\n",
      "Epoch 8300, loss: 1.1259\n",
      "Epoch 8400, loss: 1.1674\n",
      "Epoch 8500, loss: 1.1695\n",
      "Epoch 8600, loss: 1.1439\n",
      "Epoch 8700, loss: 1.1294\n",
      "Epoch 8800, loss: 1.1334\n",
      "Epoch 8900, loss: 1.1587\n",
      "Epoch 9000, loss: 1.1419\n",
      "Epoch 9100, loss: 1.1471\n",
      "Epoch 9200, loss: 1.1268\n",
      "Epoch 9300, loss: 1.1051\n",
      "Epoch 9400, loss: 1.1285\n",
      "Epoch 9500, loss: 1.1448\n",
      "Epoch 9600, loss: 1.0791\n",
      "Epoch 9700, loss: 1.1735\n",
      "Epoch 9800, loss: 1.1681\n",
      "Epoch 9900, loss: 1.1936\n"
     ]
    }
   ],
   "source": [
    "num_epochs = 10000\n",
    "torch.manual_seed(1)\n",
    "for epoch in range(num_epochs):\n",
    "    hidden, cell = model.init_hidden(batch_size)\n",
    "    seq_batch, target_batch = next(iter(seq_dl))\n",
    "    optimizer.zero_grad()\n",
    "    loss = 0\n",
    "    for c in range(seq_length):\n",
    "        pred, hidden, cell = model(seq_batch[:, c], hidden, cell)\n",
    "        loss += loss_fn(pred, target_batch[:, c])\n",
    "    \n",
    "    loss.backward()\n",
    "    optimizer.step()\n",
    "    loss = loss.item() / seq_length\n",
    "    if epoch % 100 == 0:\n",
    "        print(f'Epoch {epoch}, loss: {loss:.4f}')"
   ]
  },
  {
   "cell_type": "code",
   "execution_count": 16,
   "id": "bd45cae5",
   "metadata": {},
   "outputs": [],
   "source": [
    "path = 'RNN_Project2.pt'\n",
    "torch.save(model, path)"
   ]
  },
  {
   "cell_type": "code",
   "execution_count": 17,
   "id": "6a0b1c96",
   "metadata": {},
   "outputs": [],
   "source": [
    "model = torch.load(path, weights_only=False)"
   ]
  },
  {
   "cell_type": "code",
   "execution_count": 14,
   "id": "17f6d0ae",
   "metadata": {},
   "outputs": [],
   "source": [
    "from torch.distributions.categorical import Categorical\n",
    "def sample(model, starting_str, len_generated_text=500, scale_factor=1.0):\n",
    "    encoded_input = torch.tensor([char2int[s] for s in starting_str])\n",
    "    encoded_input = torch.reshape(encoded_input, (1, -1))\n",
    "    generated_str = starting_str\n",
    "\n",
    "    model.eval()\n",
    "    hidden, cell = model.init_hidden(1)\n",
    "    for c in range(len(starting_str) - 1):\n",
    "        _, hidden, cell = model(encoded_input[:, c], hidden, cell)\n",
    "\n",
    "    last_char = encoded_input[:, -1]\n",
    "    for i in range(len_generated_text):\n",
    "        logits, hidden, cell = model(last_char.view(1), hidden, cell)\n",
    "        logits = torch.squeeze(logits, 0)\n",
    "        scaled_logits = logits * scale_factor\n",
    "        m = Categorical(logits=scaled_logits)\n",
    "        last_char = m.sample()\n",
    "        generated_str += str(cahr_array[last_char])\n",
    "    \n",
    "    return generated_str"
   ]
  },
  {
   "cell_type": "code",
   "execution_count": 15,
   "id": "ef68bb98",
   "metadata": {},
   "outputs": [
    {
     "name": "stdout",
     "output_type": "stream",
     "text": [
      "The island would distant\n",
      "supply of steel, but there was--”\n",
      "\n",
      "“We, VINEYART mothing some islet by the roads to be affect, when Western would half it than nothing but year, led by that without animined which the electricity, the engineer mounted by the war of question. You see.”\n",
      "\n",
      "“Perhaps,” answered the reporter.\n",
      "\n",
      "“You have they are of a large conimina, and had just to some perpendicularly low-troughly before than their presence of the Chimneys, they advanced by the castaway, our mountain will be best, movem\n"
     ]
    }
   ],
   "source": [
    "torch.manual_seed(1)\n",
    "print(sample(model, starting_str='The island'))"
   ]
  },
  {
   "cell_type": "markdown",
   "id": "187489cf",
   "metadata": {},
   "source": [
    "potentialsの温度調整もできる。生成されたテキストの新奇さと正確さの間にはトレードオフがある。"
   ]
  },
  {
   "cell_type": "code",
   "execution_count": null,
   "id": "22e4dac6",
   "metadata": {},
   "outputs": [],
   "source": []
  },
  {
   "cell_type": "markdown",
   "id": "4ee4b788",
   "metadata": {},
   "source": []
  }
 ],
 "metadata": {
  "kernelspec": {
   "display_name": "StudyML",
   "language": "python",
   "name": "python3"
  },
  "language_info": {
   "codemirror_mode": {
    "name": "ipython",
    "version": 3
   },
   "file_extension": ".py",
   "mimetype": "text/x-python",
   "name": "python",
   "nbconvert_exporter": "python",
   "pygments_lexer": "ipython3",
   "version": "3.13.2"
  }
 },
 "nbformat": 4,
 "nbformat_minor": 5
}
