{
 "cells": [
  {
   "cell_type": "markdown",
   "id": "42e561b9",
   "metadata": {},
   "source": [
    "# プロジェクト１：INDb映画レビューの感情分析"
   ]
  },
  {
   "cell_type": "markdown",
   "id": "e77bd692",
   "metadata": {},
   "source": [
    "トークンのインデックス->埋め込み表現を作る->LSTM  \n",
    "torchtextがインストールできない泣"
   ]
  },
  {
   "cell_type": "code",
   "execution_count": null,
   "id": "ab38b3a5",
   "metadata": {},
   "outputs": [],
   "source": [
    "from torchtext.datasets import IMDB\n",
    "train_dataset = IMDB(split='train')\n",
    "test_dataset = IMDB(split='test')"
   ]
  },
  {
   "cell_type": "markdown",
   "id": "e3e4f8c1",
   "metadata": {},
   "source": []
  }
 ],
 "metadata": {
  "kernelspec": {
   "display_name": "StudyML",
   "language": "python",
   "name": "python3"
  },
  "language_info": {
   "name": "python",
   "version": "3.13.2"
  }
 },
 "nbformat": 4,
 "nbformat_minor": 5
}
