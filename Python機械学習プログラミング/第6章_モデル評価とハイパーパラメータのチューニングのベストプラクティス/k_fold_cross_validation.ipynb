{
 "cells": [
  {
   "cell_type": "markdown",
   "id": "4bf957f0",
   "metadata": {},
   "source": [
    "# k分割交差検証"
   ]
  },
  {
   "cell_type": "markdown",
   "id": "20c222ab",
   "metadata": {},
   "source": [
    "ホールドアウト法よりもさらに頑健な性能評価方法。  \n",
    "非復元抽出を用いて、訓練データセットをランダムにk個に分割する。そのうちのk-1個はいわゆる訓練フォールドであり、モデルの訓練に使う。残りの1個はいわゆるテストフォールドであり、性能の評価に使う。この手順をk回繰り返すことで、k個のモデルを取得し、モデルの平均性能を推定する。  \n",
    "一般にモデルのチューニングに使う。  \n",
    "Ron Kohavi：：バイアスとバリアンスのバランスが最もよいのは、k=10の交差検証？"
   ]
  },
  {
   "cell_type": "code",
   "execution_count": 1,
   "id": "163c8949",
   "metadata": {},
   "outputs": [],
   "source": [
    "import pandas as pd\n",
    "from sklearn.datasets import load_breast_cancer\n",
    "import numpy as np\n",
    "\n",
    "# データセットの読み込み\n",
    "data = load_breast_cancer()\n",
    "\n",
    "# 特徴量\n",
    "X = data.data          # NumPy配列（shape: [n_samples, n_features]）\n",
    "# ラベル（0: 悪性, 1: 良性）\n",
    "y = data.target # LabelEncoder使う必要なし\n",
    "\n",
    "from sklearn.model_selection import train_test_split\n",
    "# データセットを訓練用とテスト用に分割\n",
    "X_train, X_test, y_train, y_test = train_test_split(X, y, test_size=0.2, stratify=y, random_state=1)"
   ]
  },
  {
   "cell_type": "code",
   "execution_count": 4,
   "id": "30082f0d",
   "metadata": {},
   "outputs": [
    {
     "name": "stdout",
     "output_type": "stream",
     "text": [
      "Fold: 01,Class distr.: [153 256],Acc.: 0.978\n",
      "Fold: 02,Class distr.: [153 256],Acc.: 0.935\n",
      "Fold: 03,Class distr.: [153 256],Acc.: 0.957\n",
      "Fold: 04,Class distr.: [153 256],Acc.: 0.935\n",
      "Fold: 05,Class distr.: [153 256],Acc.: 0.913\n",
      "Fold: 06,Class distr.: [153 257],Acc.: 0.956\n",
      "Fold: 07,Class distr.: [153 257],Acc.: 0.933\n",
      "Fold: 08,Class distr.: [153 257],Acc.: 0.956\n",
      "Fold: 09,Class distr.: [153 257],Acc.: 0.933\n",
      "Fold: 10,Class distr.: [153 257],Acc.: 0.978\n",
      "\n",
      "CV accuracy: 0.947 (+/- 0.020)\n"
     ]
    }
   ],
   "source": [
    "import numpy as np\n",
    "from sklearn.model_selection import StratifiedKFold # 層化KFold。クラスの比率を保ちながら分割。\n",
    "from sklearn.preprocessing import StandardScaler\n",
    "from sklearn.decomposition import PCA\n",
    "from sklearn.linear_model import LogisticRegression\n",
    "from sklearn.pipeline import make_pipeline\n",
    "\n",
    "pipe_lr = make_pipeline(\n",
    "    StandardScaler(),\n",
    "    PCA(n_components=2),\n",
    "    LogisticRegression(random_state=1)\n",
    ")\n",
    "\n",
    "kfold = StratifiedKFold(n_splits=10).split(X_train, y_train)\n",
    "scores = []\n",
    "# イテレータのインデックスと要素をループ処理：（上から順に）\n",
    "#     データをモデルに適合\n",
    "#     テストデータの正解率を算出\n",
    "#     正解率をscoresに追加\n",
    "#     分割の番号、0以上の要素数、および正解率を表示\n",
    "for k, (train, test) in enumerate(kfold):\n",
    "    pipe_lr.fit(X_train[train], y_train[train])\n",
    "    score = pipe_lr.score(X_train[test], y_train[test])\n",
    "    scores.append(score)\n",
    "    print(f'Fold: {k+1:02d},'\n",
    "          f'Class distr.: {np.bincount(y_train[train])},'\n",
    "          f'Acc.: {score:.3f}')\n",
    "\n",
    "# 平均と標準偏差を計算\n",
    "mean_acc = np.mean(scores)\n",
    "std_acc = np.std(scores)\n",
    "print(f'\\nCV accuracy: {mean_acc:.3f} (+/- {std_acc:.3f})')"
   ]
  },
  {
   "cell_type": "code",
   "execution_count": 5,
   "id": "ef72f59c",
   "metadata": {},
   "outputs": [
    {
     "name": "stdout",
     "output_type": "stream",
     "text": [
      "Cross-validation scores: [0.97826087 0.93478261 0.95652174 0.93478261 0.91304348 0.95555556\n",
      " 0.93333333 0.95555556 0.93333333 0.97777778]\n",
      "CV accuracy: 0.947 (+/- 0.020)\n"
     ]
    }
   ],
   "source": [
    "# 関数\n",
    "from sklearn.model_selection import cross_val_score\n",
    "\n",
    "scores = cross_val_score(estimator=pipe_lr,\n",
    "                         X=X_train,\n",
    "                         y=y_train,\n",
    "                         cv=10,\n",
    "                         n_jobs=1)  # n_jobs=-1で全てのCPUコアを使用\n",
    "\n",
    "print(f'Cross-validation scores: {scores}')  \n",
    "print(f'CV accuracy: {np.mean(scores):.3f} (+/- {np.std(scores):.3f})')"
   ]
  },
  {
   "cell_type": "markdown",
   "id": "317fa56f",
   "metadata": {},
   "source": [
    "cross_val_score関数のアプローチのきわめて便利な特徴の1つとして、フォールドごとの評価の計算処理をマシン上の複数のCPUに分散させることができる。n_jobs=-1でマシン上で利用可能な全てのCPUを使える。"
   ]
  }
 ],
 "metadata": {
  "kernelspec": {
   "display_name": "StudyML",
   "language": "python",
   "name": "python3"
  },
  "language_info": {
   "codemirror_mode": {
    "name": "ipython",
    "version": 3
   },
   "file_extension": ".py",
   "mimetype": "text/x-python",
   "name": "python",
   "nbconvert_exporter": "python",
   "pygments_lexer": "ipython3",
   "version": "3.13.2"
  }
 },
 "nbformat": 4,
 "nbformat_minor": 5
}
