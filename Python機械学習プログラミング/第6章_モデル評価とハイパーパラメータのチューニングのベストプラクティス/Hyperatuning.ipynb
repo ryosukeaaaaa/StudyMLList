{
 "cells": [
  {
   "cell_type": "markdown",
   "id": "7b4aca55",
   "metadata": {},
   "source": [
    "# グリッドサーチ"
   ]
  },
  {
   "cell_type": "markdown",
   "id": "28744917",
   "metadata": {},
   "source": [
    "ハイパーパラメータ最適化手法"
   ]
  },
  {
   "cell_type": "markdown",
   "id": "af20db53",
   "metadata": {},
   "source": [
    "## グリッドサーチ"
   ]
  },
  {
   "cell_type": "code",
   "execution_count": 1,
   "id": "bb084185",
   "metadata": {},
   "outputs": [],
   "source": [
    "import pandas as pd\n",
    "from sklearn.datasets import load_breast_cancer\n",
    "import numpy as np\n",
    "\n",
    "# データセットの読み込み\n",
    "data = load_breast_cancer()\n",
    "\n",
    "# 特徴量\n",
    "X = data.data          # NumPy配列（shape: [n_samples, n_features]）\n",
    "# ラベル（0: 悪性, 1: 良性）\n",
    "y = data.target # LabelEncoder使う必要なし\n",
    "\n",
    "from sklearn.model_selection import train_test_split\n",
    "# データセットを訓練用とテスト用に分割\n",
    "X_train, X_test, y_train, y_test = train_test_split(X, y, test_size=0.2, stratify=y, random_state=1)"
   ]
  },
  {
   "cell_type": "code",
   "execution_count": 2,
   "id": "aea7f392",
   "metadata": {},
   "outputs": [
    {
     "name": "stdout",
     "output_type": "stream",
     "text": [
      "Best score: 0.976\n",
      "Best parameters: {'svc__C': 10, 'svc__gamma': 0.001, 'svc__kernel': 'rbf'}\n"
     ]
    }
   ],
   "source": [
    "from sklearn.model_selection import GridSearchCV\n",
    "from sklearn.preprocessing import StandardScaler\n",
    "from sklearn.pipeline import make_pipeline\n",
    "from sklearn.svm import SVC\n",
    "\n",
    "pipe_svc = make_pipeline(\n",
    "    StandardScaler(),\n",
    "    SVC(random_state=1)\n",
    ")\n",
    "param_range = [0.0001, 0.001, 0.01, 0.1, 1, 10, 100, 1000]\n",
    "param_grid = [{\n",
    "    'svc__C': param_range,\n",
    "    'svc__kernel': ['linear']\n",
    "}, {\n",
    "    'svc__C': param_range,\n",
    "    'svc__gamma': param_range,\n",
    "    'svc__kernel': ['rbf']\n",
    "}]\n",
    "\n",
    "gs = GridSearchCV(estimator=pipe_svc,\n",
    "                  param_grid=param_grid,\n",
    "                  scoring='accuracy',\n",
    "                  cv=10,\n",
    "                  refit=True, # 最適なパラメータで再学習\n",
    "                  n_jobs=-1)\n",
    "gs = gs.fit(X_train, y_train)\n",
    "print('Best score: %.3f' % gs.best_score_)\n",
    "print('Best parameters: %s' % gs.best_params_)"
   ]
  },
  {
   "cell_type": "code",
   "execution_count": 3,
   "id": "8a592a35",
   "metadata": {},
   "outputs": [
    {
     "name": "stdout",
     "output_type": "stream",
     "text": [
      "Test accuracy: 0.982\n"
     ]
    }
   ],
   "source": [
    "# refit=Trueにしていれば必要ない\n",
    "clf = gs.best_estimator_\n",
    "clf.fit(X_train, y_train)\n",
    "print('Test accuracy: %.3f' % clf.score(X_test, y_test))"
   ]
  },
  {
   "cell_type": "markdown",
   "id": "b75344bb",
   "metadata": {},
   "source": [
    "## ランダムサーチ"
   ]
  },
  {
   "cell_type": "markdown",
   "id": "d169c288",
   "metadata": {},
   "source": [
    "グリッドサーチはしらみつぶし探索であるためコストが高い。  \n",
    "ランダムサーチは分布（分布は指定できる）からランダムに抽出する。コスト的にも時間的にもグリッドサーチより効率的。"
   ]
  },
  {
   "cell_type": "code",
   "execution_count": 4,
   "id": "06cd2fa4",
   "metadata": {},
   "outputs": [
    {
     "data": {
      "text/plain": [
       "array([8.30145146e-02, 1.10222804e+01, 1.00184520e-04, 1.30715777e-02,\n",
       "       1.06485687e-03, 4.42965766e-04, 2.01289666e-03, 2.62376594e-02,\n",
       "       5.98924832e-02, 5.91176467e-01])"
      ]
     },
     "execution_count": 4,
     "metadata": {},
     "output_type": "execute_result"
    }
   ],
   "source": [
    "import scipy\n",
    "param_range = scipy.stats.loguniform(1e-4, 1e3)\n",
    "np.random.seed(1)\n",
    "param_range.rvs(10)"
   ]
  },
  {
   "cell_type": "code",
   "execution_count": 5,
   "id": "7134bab2",
   "metadata": {},
   "outputs": [
    {
     "name": "stdout",
     "output_type": "stream",
     "text": [
      "Best score: 0.969\n",
      "Best parameters: {'svc__C': np.float64(4.934834261073333), 'svc__kernel': 'linear'}\n"
     ]
    }
   ],
   "source": [
    "from sklearn.model_selection import RandomizedSearchCV\n",
    "pipe_svc = make_pipeline(\n",
    "    StandardScaler(),\n",
    "    SVC(random_state=1)\n",
    ")\n",
    "param_grid = [{\n",
    "    'svc__C': param_range,\n",
    "    'svc__kernel': ['linear']\n",
    "}, {\n",
    "    'svc__C': param_range,\n",
    "    'svc__gamma': param_range,\n",
    "    'svc__kernel': ['rbf']\n",
    "}]\n",
    "rs = RandomizedSearchCV(estimator=pipe_svc,\n",
    "                        param_distributions=param_grid,\n",
    "                        scoring='accuracy',\n",
    "                        cv=10,\n",
    "                        refit=True, # 最適なパラメータで再学習\n",
    "                        n_iter=20, # ランダムサーチの試行回数\n",
    "                        n_jobs=-1)\n",
    "rs = rs.fit(X_train, y_train)\n",
    "print('Best score: %.3f' % rs.best_score_)\n",
    "print('Best parameters: %s' % rs.best_params_)"
   ]
  },
  {
   "cell_type": "markdown",
   "id": "1cc98dd3",
   "metadata": {},
   "source": [
    "## Successive Having"
   ]
  },
  {
   "cell_type": "markdown",
   "id": "621943d3",
   "metadata": {},
   "source": [
    "* ランダムサンプリングを使って設定候補を大量に抽出する。\n",
    "* 制限されたリソースで（例えば、訓練データセット全体ではなくそのごく一部を使って）モデルを訓練する。\n",
    "* 予測性能の低いものから順に50%の設定候補を捨てる。\n",
    "* 手順2に戻って、リソースの量を増やした上で同じ処理を繰り返す。"
   ]
  },
  {
   "cell_type": "code",
   "execution_count": 6,
   "id": "ee679121",
   "metadata": {},
   "outputs": [
    {
     "name": "stdout",
     "output_type": "stream",
     "text": [
      "Best score: 0.974\n",
      "Best parameters: {'svc__C': np.float64(0.05971247755848463), 'svc__kernel': 'linear'}\n",
      "Test accuracy: 0.982\n"
     ]
    }
   ],
   "source": [
    "from sklearn.experimental import enable_halving_search_cv\n",
    "from sklearn.model_selection import HalvingRandomSearchCV\n",
    "hs = HalvingRandomSearchCV(pipe_svc,\n",
    "                         param_distributions=param_grid,\n",
    "                         n_candidates='exhaust', # 最後のイテレーションでリソースの最大数（この場合は訓練データの個数）が使われる。\n",
    "                         resource='n_samples',\n",
    "                         factor=1.5,\n",
    "                         random_state=1,\n",
    "                         n_jobs=-1,\n",
    ")\n",
    "hs = hs.fit(X_train, y_train)\n",
    "print('Best score: %.3f' % hs.best_score_)\n",
    "print('Best parameters: %s' % hs.best_params_)\n",
    "\n",
    "# HalvingGridSearchCVの結果を使って再学習\n",
    "clf = hs.best_estimator_\n",
    "print('Test accuracy: %.3f' % clf.score(X_test, y_test))"
   ]
  },
  {
   "cell_type": "markdown",
   "id": "6b118624",
   "metadata": {},
   "source": [
    "ハイパーパラメータ最適化のためのライブラリとしては、hyperoptがよく知られている。  \n",
    "TPE(Tree-structured Parzen Estimators：確率的モデルに基づくベイズ最適化手法)を含め、何種類か実装されている。"
   ]
  },
  {
   "cell_type": "markdown",
   "id": "364704e1",
   "metadata": {},
   "source": [
    "**ベイズ最適化（Bayesian Optimization）**\n",
    "\n",
    "* **概要**: ガウス過程などで目的関数をモデル化し、次に評価すべき点を予測。\n",
    "* **利点**: 少ない試行回数で高性能な結果を得られることが多い。\n",
    "* **欠点**: 実装がやや複雑で、計算コストもやや高い。\n",
    "* **ツール例**: `Optuna`, `Hyperopt`, `scikit-optimize`\n",
    "\n",
    "\n",
    "**進化的アルゴリズム（Evolutionary Algorithms）**\n",
    "\n",
    "* **概要**: 遺伝的アルゴリズムや遺伝的プログラミングなど。\n",
    "* **利点**: 離散・連続混在パラメータや多峰性問題に強い。\n",
    "* **ツール例**: `DEAP`, `Nevergrad`\n",
    "\n",
    "\n",
    "**ハイパーバンド / サクセッショナルハルチューニング（Hyperband, Successive Halving）**\n",
    "\n",
    "* **概要**: 計算資源を動的に割り当て、早期停止を活用して非効率なモデルを排除。\n",
    "* **利点**: 多くの試行を高速に実施可能。\n",
    "* **ツール例**: `Ray Tune`, `Optuna`, `Auto-sklearn`\n",
    "\n",
    "**AutoMLツールの活用**\n",
    "\n",
    "* **概要**: モデル選定＋ハイパーパラメータ調整を自動化。\n",
    "* **代表例**:\n",
    "\n",
    "  * `Auto-sklearn`\n",
    "  * `TPOT`\n",
    "  * `Google AutoML`\n",
    "  * `H2O.ai`\n"
   ]
  },
  {
   "cell_type": "markdown",
   "id": "f2d40401",
   "metadata": {},
   "source": [
    "## 5x2交差検証"
   ]
  },
  {
   "cell_type": "code",
   "execution_count": 7,
   "id": "87591a30",
   "metadata": {},
   "outputs": [
    {
     "name": "stdout",
     "output_type": "stream",
     "text": [
      "CV accuracy: 0.971 +/- 0.011\n"
     ]
    }
   ],
   "source": [
    "from sklearn.model_selection import cross_val_score\n",
    "param_range = [0.0001, 0.001, 0.01, 0.1, 1, 10, 100, 1000]\n",
    "param_grid = [{\n",
    "    'svc__C': param_range,\n",
    "    'svc__kernel': ['linear']\n",
    "}, {\n",
    "    'svc__C': param_range,\n",
    "    'svc__gamma': param_range,\n",
    "    'svc__kernel': ['rbf']\n",
    "}]\n",
    "gs = GridSearchCV(estimator=pipe_svc,\n",
    "                  param_grid=param_grid,\n",
    "                  scoring='accuracy',\n",
    "                  cv=2)\n",
    "scores = cross_val_score(gs, X_train, y_train, scoring='accuracy', cv=5)\n",
    "print(f'CV accuracy: {scores.mean():.3f} +/- {scores.std():.3f}')"
   ]
  },
  {
   "cell_type": "code",
   "execution_count": null,
   "id": "c3f02e8f",
   "metadata": {},
   "outputs": [
    {
     "name": "stdout",
     "output_type": "stream",
     "text": [
      "CV accuracy: 0.932 +/- 0.013\n"
     ]
    }
   ],
   "source": [
    "# 使わない場合\n",
    "from sklearn.tree import DecisionTreeClassifier\n",
    "gs = GridSearchCV(estimator=DecisionTreeClassifier(random_state=0),\n",
    "                  param_grid={'max_depth': [1, 2, 3, 4, 5, 6, 7, None]},\n",
    "                  scoring='accuracy',\n",
    "                  cv=2)\n",
    "scores = cross_val_score(gs, X_train, y_train, scoring='accuracy', cv=5)\n",
    "print(f'CV accuracy: {scores.mean():.3f} +/- {scores.std():.3f}')\n",
    "\n",
    "# 前者の方が性能が良い"
   ]
  }
 ],
 "metadata": {
  "kernelspec": {
   "display_name": "StudyML",
   "language": "python",
   "name": "python3"
  },
  "language_info": {
   "codemirror_mode": {
    "name": "ipython",
    "version": 3
   },
   "file_extension": ".py",
   "mimetype": "text/x-python",
   "name": "python",
   "nbconvert_exporter": "python",
   "pygments_lexer": "ipython3",
   "version": "3.13.2"
  }
 },
 "nbformat": 4,
 "nbformat_minor": 5
}
