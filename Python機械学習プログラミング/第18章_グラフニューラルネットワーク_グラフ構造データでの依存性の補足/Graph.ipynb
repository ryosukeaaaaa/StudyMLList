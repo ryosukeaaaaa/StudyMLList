{
 "cells": [
  {
   "cell_type": "markdown",
   "id": "4c6ab64d",
   "metadata": {},
   "source": [
    "# グラフ"
   ]
  },
  {
   "cell_type": "markdown",
   "id": "a8872600",
   "metadata": {},
   "source": [
    "グラフデータには順列不変という厳格なプライやがある。よって畳み込みアプローチが適する。"
   ]
  },
  {
   "cell_type": "markdown",
   "id": "02b2ca3e",
   "metadata": {},
   "source": []
  }
 ],
 "metadata": {
  "language_info": {
   "name": "python"
  }
 },
 "nbformat": 4,
 "nbformat_minor": 5
}
