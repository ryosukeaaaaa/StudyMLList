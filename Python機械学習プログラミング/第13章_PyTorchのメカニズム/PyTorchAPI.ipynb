{
 "cells": [
  {
   "cell_type": "markdown",
   "id": "ec749b74",
   "metadata": {},
   "source": [
    "# PyTorch API"
   ]
  },
  {
   "cell_type": "markdown",
   "id": "823211ab",
   "metadata": {},
   "source": [
    "fastai, Catalyst, PyTorch Lightning, PyTorch-IgniteなどのPyTorchをベースとしたさまざまなライブラリやAPIが開発されている。  \n",
    "| ライブラリ                 | 特徴と適用領域                               |\n",
    "| --------------------- | ------------------------------------- |\n",
    "| **fastai**            | 高レベルAPI。少ないコードで精度を出したい初中級者向け。教育分野にも◎  |\n",
    "| **PyTorch Lightning** | PyTorchそのままの感覚で構造を整理しやすく、研究・プロダクション向け |\n",
    "| **Catalyst**          | ハイコンペテンション環境、MLflowやHydra連携、強い再現性と柔軟性 |\n",
    "| **Ignite**            | 最低限のフレームワークで、細かく制御したい中上級者向け           |\n"
   ]
  },
  {
   "cell_type": "markdown",
   "id": "ec1b131c",
   "metadata": {},
   "source": [
    "## PyTorch Lightning\n",
    "PyTorchでの深層学習モデルの訓練・開発を簡潔かつ効率的に行うための高水準フレームワーク"
   ]
  },
  {
   "cell_type": "code",
   "execution_count": 9,
   "id": "998ab697",
   "metadata": {},
   "outputs": [],
   "source": [
    "import pytorch_lightning as pl\n",
    "import torch\n",
    "import torch.nn as nn\n",
    "from torchmetrics import Accuracy\n",
    "\n",
    "class MultiLayerPerceptron(pl.LightningModule):\n",
    "    def __init__(self, image_shape=(1, 28, 28), hidden_units=(32, 16)):\n",
    "        super().__init__()\n",
    "        # Lightningの新しい属性\n",
    "        self.train_acc = Accuracy(task=\"multiclass\", num_classes=10)\n",
    "        self.valid_acc = Accuracy(task=\"multiclass\", num_classes=10)\n",
    "        self.test_acc = Accuracy(task=\"multiclass\", num_classes=10)\n",
    "\n",
    "        # 前節と同様のモデル\n",
    "        input_size = image_shape[0] * image_shape[1] * image_shape[2]\n",
    "        all_layers = [nn.Flatten()]\n",
    "        for hidden_unit in hidden_units:\n",
    "            layer = nn.Linear(input_size, hidden_unit)\n",
    "            all_layers.append(layer)\n",
    "            all_layers.append(nn.ReLU())\n",
    "            input_size = hidden_unit\n",
    "\n",
    "        all_layers.append(nn.Linear(hidden_units[-1], 10))\n",
    "        all_layers.append(nn.Softmax(dim=1))\n",
    "        self.model = nn.Sequential(*all_layers)\n",
    "\n",
    "    def forward(self, x):\n",
    "        x = self.model(x)\n",
    "        return x\n",
    "\n",
    "    def training_step(self, batch, batch_idx):\n",
    "        x, y = batch\n",
    "        logits = self(x)\n",
    "        loss = nn.functional.cross_entropy(self(x), y)\n",
    "        preds = torch.argmax(logits, dim=1)\n",
    "        self.train_acc.update(preds, y)\n",
    "        self.log(\"train_loss\", loss, prog_bar=True)\n",
    "        return loss\n",
    "\n",
    "    def on_training_epoch_end(self, outs):\n",
    "        self.log(\"train_acc\", self.train_acc.compute())\n",
    "        self.train_acc.reset()\n",
    "\n",
    "    def validation_step(self, batch, batch_idx):\n",
    "        x, y = batch\n",
    "        logits = self(x)\n",
    "        loss = nn.functional.cross_entropy(self(x), y)\n",
    "        preds = torch.argmax(logits, dim=1)\n",
    "        self.valid_acc.update(preds, y)\n",
    "        self.log(\"valid_loss\", loss, prog_bar=True)\n",
    "        return loss\n",
    "\n",
    "    def on_validation_epoch_end(self):\n",
    "        self.log(\"valid_acc\", self.valid_acc.compute(), prog_bar=True)\n",
    "        self.valid_acc.reset()\n",
    "\n",
    "    def test_step(self, batch, batch_idx):\n",
    "        x, y = batch\n",
    "        logits = self(x)\n",
    "        loss = nn.functional.cross_entropy(self(x), y)\n",
    "        preds = torch.argmax(logits, dim=1)\n",
    "        self.test_acc.update(preds, y)\n",
    "        self.log(\"test_loss\", loss, prog_bar=True)\n",
    "        self.log(\"test_acc\", self.test_acc.compute(), prog_bar=True)\n",
    "        return loss\n",
    "\n",
    "    def configure_optimizers(self):\n",
    "        optimizer = torch.optim.Adam(self.parameters(), lr=0.001)\n",
    "        return optimizer\n"
   ]
  },
  {
   "cell_type": "code",
   "execution_count": 10,
   "id": "8d6a34c7",
   "metadata": {},
   "outputs": [],
   "source": [
    "from torch.utils.data import DataLoader\n",
    "from torch.utils.data import random_split\n",
    "from torchvision.datasets import MNIST\n",
    "from torchvision import transforms\n",
    "\n",
    "class MnistDataModule(pl.LightningDataModule):\n",
    "    def __init__(self, data_path='./'):\n",
    "        super().__init__()\n",
    "        self.data_path = data_path\n",
    "        self.transform = transforms.Compose([transforms.ToTensor()])\n",
    "\n",
    "    def prepare_data(self):\n",
    "        MNIST(root=self.data_path, download=True)\n",
    "\n",
    "    def setup(self, stage=None):\n",
    "        # stageは'fit'、'validate'、'test'、または'predict'\n",
    "        #（ここではNoneを指定）\n",
    "        mnist_all = MNIST(root=self.data_path,\n",
    "                          train=True,\n",
    "                          transform=self.transform,\n",
    "                          download=False)\n",
    "        self.train, self.val = random_split(\n",
    "            mnist_all, [55000, 5000],\n",
    "            generator=torch.Generator().manual_seed(1))\n",
    "        self.test = MNIST(root=self.data_path,\n",
    "                          train=False,\n",
    "                          transform=self.transform,\n",
    "                          download=False)\n",
    "\n",
    "    def train_dataloader(self):\n",
    "        return DataLoader(self.train, batch_size=64, num_workers=4)\n",
    "\n",
    "    def val_dataloader(self):\n",
    "        return DataLoader(self.val, batch_size=64, num_workers=4)\n",
    "\n",
    "    def test_dataloader(self):\n",
    "        return DataLoader(self.test, batch_size=64, num_workers=4)\n"
   ]
  },
  {
   "cell_type": "code",
   "execution_count": 11,
   "id": "96a79872",
   "metadata": {},
   "outputs": [],
   "source": [
    "torch.manual_seed(1)\n",
    "mnist_dm = MnistDataModule()"
   ]
  },
  {
   "cell_type": "code",
   "execution_count": 12,
   "id": "3623450d",
   "metadata": {},
   "outputs": [
    {
     "name": "stderr",
     "output_type": "stream",
     "text": [
      "Using default `ModelCheckpoint`. Consider installing `litmodels` package to enable `LitModelCheckpoint` for automatic upload to the Lightning model registry.\n",
      "GPU available: True (mps), used: True\n",
      "TPU available: False, using: 0 TPU cores\n",
      "HPU available: False, using: 0 HPUs\n",
      "\n",
      "  | Name      | Type               | Params | Mode \n",
      "---------------------------------------------------------\n",
      "0 | train_acc | MulticlassAccuracy | 0      | train\n",
      "1 | valid_acc | MulticlassAccuracy | 0      | train\n",
      "2 | test_acc  | MulticlassAccuracy | 0      | train\n",
      "3 | model     | Sequential         | 25.8 K | train\n",
      "---------------------------------------------------------\n",
      "25.8 K    Trainable params\n",
      "0         Non-trainable params\n",
      "25.8 K    Total params\n",
      "0.103     Total estimated model params size (MB)\n",
      "11        Modules in train mode\n",
      "0         Modules in eval mode\n"
     ]
    },
    {
     "name": "stdout",
     "output_type": "stream",
     "text": [
      "Sanity Checking: |          | 0/? [00:00<?, ?it/s]"
     ]
    },
    {
     "name": "stderr",
     "output_type": "stream",
     "text": [
      "/Users/nagairyousuke/名称未設定フォルダ/StudyMLList/StudyML/lib/python3.13/site-packages/pytorch_lightning/trainer/connectors/data_connector.py:420: Consider setting `persistent_workers=True` in 'val_dataloader' to speed up the dataloader worker initialization.\n"
     ]
    },
    {
     "name": "stdout",
     "output_type": "stream",
     "text": [
      "                                                                           \r"
     ]
    },
    {
     "name": "stderr",
     "output_type": "stream",
     "text": [
      "/Users/nagairyousuke/名称未設定フォルダ/StudyMLList/StudyML/lib/python3.13/site-packages/pytorch_lightning/trainer/connectors/data_connector.py:420: Consider setting `persistent_workers=True` in 'train_dataloader' to speed up the dataloader worker initialization.\n"
     ]
    },
    {
     "name": "stdout",
     "output_type": "stream",
     "text": [
      "Epoch 9: 100%|██████████| 860/860 [00:08<00:00, 100.46it/s, v_num=3, train_loss=1.590, valid_loss=1.520, valid_acc=0.943]"
     ]
    },
    {
     "name": "stderr",
     "output_type": "stream",
     "text": [
      "`Trainer.fit` stopped: `max_epochs=10` reached.\n"
     ]
    },
    {
     "name": "stdout",
     "output_type": "stream",
     "text": [
      "Epoch 9: 100%|██████████| 860/860 [00:08<00:00, 100.37it/s, v_num=3, train_loss=1.590, valid_loss=1.520, valid_acc=0.943]\n"
     ]
    }
   ],
   "source": [
    "mnistclassifier = MultiLayerPerceptron()\n",
    "if torch.cuda.is_available():\n",
    "    trainer = pl.Trainer(max_epochs=10, gpus=1)\n",
    "else:\n",
    "    trainer = pl.Trainer(max_epochs=10)\n",
    "\n",
    "trainer.fit(model=mnistclassifier, datamodule=mnist_dm)"
   ]
  },
  {
   "cell_type": "markdown",
   "id": "58457841",
   "metadata": {},
   "source": [
    "## TensorBoardを使ってモデル評価"
   ]
  },
  {
   "cell_type": "markdown",
   "id": "2a15b566",
   "metadata": {},
   "source": [
    "コマンドラインで\n",
    "tensorboard --logdir lightning_logs/\n",
    "新しいPythonのバージョンだと使えないっぽい。  \n",
    "Lightningでは、好都合なことに、すでに訓練したモデルを読み込み、さらに数エポックの訓練を行うことができる。"
   ]
  },
  {
   "cell_type": "code",
   "execution_count": 13,
   "id": "de8e679c",
   "metadata": {},
   "outputs": [
    {
     "name": "stdout",
     "output_type": "stream",
     "text": [
      "The tensorboard extension is already loaded. To reload it, use:\n",
      "  %reload_ext tensorboard\n"
     ]
    },
    {
     "data": {
      "text/plain": [
       "ERROR: Failed to launch TensorBoard (exited with 1).\n",
       "Contents of stderr:\n",
       "/Users/nagairyousuke/名称未設定フォルダ/StudyMLList/StudyML/lib/python3.13/site-packages/tensorboard/default.py:30: UserWarning: pkg_resources is deprecated as an API. See https://setuptools.pypa.io/en/latest/pkg_resources.html. The pkg_resources package is slated for removal as early as 2025-11-30. Refrain from using this package or pin to Setuptools<81.\n",
       "  import pkg_resources\n",
       "Traceback (most recent call last):\n",
       "  File \u001b[35m\"/Users/nagairyousuke/名称未設定フォルダ/StudyMLList/StudyML/bin/tensorboard\"\u001b[0m, line \u001b[35m5\u001b[0m, in \u001b[35m<module>\u001b[0m\n",
       "    from tensorboard.main import run_main\n",
       "  File \u001b[35m\"/Users/nagairyousuke/名称未設定フォルダ/StudyMLList/StudyML/lib/python3.13/site-packages/tensorboard/main.py\"\u001b[0m, line \u001b[35m27\u001b[0m, in \u001b[35m<module>\u001b[0m\n",
       "    from tensorboard import default\n",
       "  File \u001b[35m\"/Users/nagairyousuke/名称未設定フォルダ/StudyMLList/StudyML/lib/python3.13/site-packages/tensorboard/default.py\"\u001b[0m, line \u001b[35m40\u001b[0m, in \u001b[35m<module>\u001b[0m\n",
       "    from tensorboard.plugins.image import images_plugin\n",
       "  File \u001b[35m\"/Users/nagairyousuke/名称未設定フォルダ/StudyMLList/StudyML/lib/python3.13/site-packages/tensorboard/plugins/image/images_plugin.py\"\u001b[0m, line \u001b[35m18\u001b[0m, in \u001b[35m<module>\u001b[0m\n",
       "    import imghdr\n",
       "\u001b[1;35mModuleNotFoundError\u001b[0m: \u001b[35mNo module named 'imghdr'\u001b[0m"
      ]
     },
     "metadata": {},
     "output_type": "display_data"
    }
   ],
   "source": [
    "%load_ext tensorboard\n",
    "%tensorboard --logdir lightning_logs"
   ]
  },
  {
   "cell_type": "code",
   "execution_count": 14,
   "id": "f4261770",
   "metadata": {},
   "outputs": [
    {
     "name": "stderr",
     "output_type": "stream",
     "text": [
      "Using default `ModelCheckpoint`. Consider installing `litmodels` package to enable `LitModelCheckpoint` for automatic upload to the Lightning model registry.\n",
      "GPU available: True (mps), used: True\n",
      "TPU available: False, using: 0 TPU cores\n",
      "HPU available: False, using: 0 HPUs\n",
      "Restoring states from the checkpoint path at ./lightning_logs/version_1/checkpoints/epoch=9-step=8600.ckpt\n",
      "/Users/nagairyousuke/名称未設定フォルダ/StudyMLList/StudyML/lib/python3.13/site-packages/pytorch_lightning/callbacks/model_checkpoint.py:362: The dirpath has changed from '/Users/nagairyousuke/名称未設定フォルダ/StudyMLList/Python機械学習プログラミング/第13章_PyTorchのメカニズム/lightning_logs/version_1/checkpoints' to '/Users/nagairyousuke/名称未設定フォルダ/StudyMLList/Python機械学習プログラミング/第13章_PyTorchのメカニズム/lightning_logs/version_4/checkpoints', therefore `best_model_score`, `kth_best_model_path`, `kth_value`, `last_model_path` and `best_k_models` won't be reloaded. Only `best_model_path` will be reloaded.\n",
      "\n",
      "  | Name      | Type               | Params | Mode \n",
      "---------------------------------------------------------\n",
      "0 | train_acc | MulticlassAccuracy | 0      | train\n",
      "1 | valid_acc | MulticlassAccuracy | 0      | train\n",
      "2 | test_acc  | MulticlassAccuracy | 0      | train\n",
      "3 | model     | Sequential         | 25.8 K | train\n",
      "---------------------------------------------------------\n",
      "25.8 K    Trainable params\n",
      "0         Non-trainable params\n",
      "25.8 K    Total params\n",
      "0.103     Total estimated model params size (MB)\n",
      "11        Modules in train mode\n",
      "0         Modules in eval mode\n",
      "Restored all states from the checkpoint at ./lightning_logs/version_1/checkpoints/epoch=9-step=8600.ckpt\n"
     ]
    },
    {
     "name": "stdout",
     "output_type": "stream",
     "text": [
      "Sanity Checking: |          | 0/? [00:00<?, ?it/s]"
     ]
    },
    {
     "name": "stderr",
     "output_type": "stream",
     "text": [
      "/Users/nagairyousuke/名称未設定フォルダ/StudyMLList/StudyML/lib/python3.13/site-packages/pytorch_lightning/trainer/connectors/data_connector.py:420: Consider setting `persistent_workers=True` in 'val_dataloader' to speed up the dataloader worker initialization.\n"
     ]
    },
    {
     "name": "stdout",
     "output_type": "stream",
     "text": [
      "                                                                            \r"
     ]
    },
    {
     "name": "stderr",
     "output_type": "stream",
     "text": [
      "/Users/nagairyousuke/名称未設定フォルダ/StudyMLList/StudyML/lib/python3.13/site-packages/pytorch_lightning/trainer/connectors/data_connector.py:420: Consider setting `persistent_workers=True` in 'train_dataloader' to speed up the dataloader worker initialization.\n"
     ]
    },
    {
     "name": "stdout",
     "output_type": "stream",
     "text": [
      "Epoch 14: 100%|██████████| 860/860 [00:08<00:00, 104.79it/s, v_num=4, train_loss=1.590, valid_loss=1.520, valid_acc=0.944]"
     ]
    },
    {
     "name": "stderr",
     "output_type": "stream",
     "text": [
      "`Trainer.fit` stopped: `max_epochs=15` reached.\n"
     ]
    },
    {
     "name": "stdout",
     "output_type": "stream",
     "text": [
      "Epoch 14: 100%|██████████| 860/860 [00:08<00:00, 104.70it/s, v_num=4, train_loss=1.590, valid_loss=1.520, valid_acc=0.944]\n"
     ]
    }
   ],
   "source": [
    "path = './lightning_logs/version_1/checkpoints/epoch=9-step=8600.ckpt'\n",
    "if torch.cuda.is_available():\n",
    "    trainer = pl.Trainer(max_epochs=15, gpus=1)\n",
    "else:\n",
    "    trainer = pl.Trainer(max_epochs=15)\n",
    "trainer.fit(model=mnistclassifier, datamodule=mnist_dm, ckpt_path=path)"
   ]
  },
  {
   "cell_type": "code",
   "execution_count": 15,
   "id": "3eb9e6b4",
   "metadata": {},
   "outputs": [
    {
     "name": "stderr",
     "output_type": "stream",
     "text": [
      "/Users/nagairyousuke/名称未設定フォルダ/StudyMLList/StudyML/lib/python3.13/site-packages/pytorch_lightning/trainer/connectors/data_connector.py:420: Consider setting `persistent_workers=True` in 'test_dataloader' to speed up the dataloader worker initialization.\n"
     ]
    },
    {
     "name": "stdout",
     "output_type": "stream",
     "text": [
      "Testing DataLoader 0: 100%|██████████| 157/157 [00:00<00:00, 239.17it/s]\n",
      "────────────────────────────────────────────────────────────────────────────────────────────────────────────────────────\n",
      "       Test metric             DataLoader 0\n",
      "────────────────────────────────────────────────────────────────────────────────────────────────────────────────────────\n",
      "        test_acc            0.9402898550033569\n",
      "        test_loss            1.514886736869812\n",
      "────────────────────────────────────────────────────────────────────────────────────────────────────────────────────────\n"
     ]
    },
    {
     "data": {
      "text/plain": [
       "[{'test_loss': 1.514886736869812, 'test_acc': 0.9402898550033569}]"
      ]
     },
     "execution_count": 15,
     "metadata": {},
     "output_type": "execute_result"
    }
   ],
   "source": [
    "trainer.test(model=mnistclassifier, datamodule=mnist_dm)"
   ]
  },
  {
   "cell_type": "code",
   "execution_count": 16,
   "id": "be866b07",
   "metadata": {},
   "outputs": [],
   "source": [
    "#モデルの再利用\n",
    "model = MultiLayerPerceptron.load_from_checkpoint(path)"
   ]
  },
  {
   "cell_type": "markdown",
   "id": "71fc7faf",
   "metadata": {},
   "source": []
  }
 ],
 "metadata": {
  "kernelspec": {
   "display_name": "StudyML",
   "language": "python",
   "name": "python3"
  },
  "language_info": {
   "codemirror_mode": {
    "name": "ipython",
    "version": 3
   },
   "file_extension": ".py",
   "mimetype": "text/x-python",
   "name": "python",
   "nbconvert_exporter": "python",
   "pygments_lexer": "ipython3",
   "version": "3.13.2"
  }
 },
 "nbformat": 4,
 "nbformat_minor": 5
}
