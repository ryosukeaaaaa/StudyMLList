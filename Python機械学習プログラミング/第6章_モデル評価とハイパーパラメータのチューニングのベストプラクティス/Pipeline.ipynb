{
 "cells": [
  {
   "cell_type": "markdown",
   "id": "35a2c64e",
   "metadata": {},
   "source": [
    "# パイプライン"
   ]
  },
  {
   "cell_type": "markdown",
   "id": "3684c331",
   "metadata": {},
   "source": [
    "* 変換器と推定器を結合する。"
   ]
  },
  {
   "cell_type": "code",
   "execution_count": 1,
   "id": "14b1cf56",
   "metadata": {},
   "outputs": [],
   "source": [
    "import pandas as pd\n",
    "from sklearn.datasets import load_breast_cancer\n",
    "import numpy as np\n",
    "\n",
    "# データセットの読み込み\n",
    "data = load_breast_cancer()\n",
    "\n",
    "# 特徴量\n",
    "X = data.data          # NumPy配列（shape: [n_samples, n_features]）\n",
    "# ラベル（0: 悪性, 1: 良性）\n",
    "y = data.target # LabelEncoder使う必要なし"
   ]
  },
  {
   "cell_type": "code",
   "execution_count": 2,
   "id": "dc10298f",
   "metadata": {},
   "outputs": [],
   "source": [
    "from sklearn.model_selection import train_test_split\n",
    "# データセットを訓練用とテスト用に分割\n",
    "X_train, X_test, y_train, y_test = train_test_split(X, y, test_size=0.2, stratify=y, random_state=1)"
   ]
  },
  {
   "cell_type": "code",
   "execution_count": 3,
   "id": "beddac37",
   "metadata": {},
   "outputs": [
    {
     "name": "stdout",
     "output_type": "stream",
     "text": [
      "Accuracy: 0.956\n"
     ]
    }
   ],
   "source": [
    "from sklearn.preprocessing import StandardScaler\n",
    "from sklearn.decomposition import PCA\n",
    "from sklearn.linear_model import LogisticRegression\n",
    "from sklearn.pipeline import make_pipeline\n",
    "\n",
    "pipe_lr = make_pipeline(\n",
    "    StandardScaler(),\n",
    "    PCA(n_components=2),\n",
    "    LogisticRegression(random_state=1)\n",
    ")\n",
    "# モデルの学習\n",
    "pipe_lr.fit(X_train, y_train)\n",
    "# モデル予測\n",
    "y_pred = pipe_lr.predict(X_test)\n",
    "# モデルの評価\n",
    "score = pipe_lr.score(X_test, y_test)\n",
    "print(f'Accuracy: {score:.3f}')"
   ]
  }
 ],
 "metadata": {
  "kernelspec": {
   "display_name": "StudyML",
   "language": "python",
   "name": "python3"
  },
  "language_info": {
   "codemirror_mode": {
    "name": "ipython",
    "version": 3
   },
   "file_extension": ".py",
   "mimetype": "text/x-python",
   "name": "python",
   "nbconvert_exporter": "python",
   "pygments_lexer": "ipython3",
   "version": "3.13.2"
  }
 },
 "nbformat": 4,
 "nbformat_minor": 5
}
